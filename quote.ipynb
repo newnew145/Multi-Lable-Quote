{
 "cells": [
  {
   "cell_type": "markdown",
   "metadata": {},
   "source": [
    "# Assignment 2 - DS4Biz Y63\n",
    "## TextScraping_Classification\n",
    "***\n",
    "\n",
    "### Team Detail\n",
    "**Team Name**: INu  \n",
    "***\n",
    "### *Student 1*\n",
    "**Student ID**: 61070285   \n",
    "**Student Full Name**: นายชยพล วนานิยกุล\n",
    "***\n",
    "### *Student 2*\n",
    "**Student ID**: 61070327  \n",
    "**Student Full Name**: นายอนุ ม่วงคำ\n",
    "***"
   ]
  },
  {
   "cell_type": "markdown",
   "metadata": {},
   "source": [
    "# Import "
   ]
  },
  {
   "cell_type": "code",
   "execution_count": 1,
   "metadata": {},
   "outputs": [],
   "source": [
    "import requests\n",
    "import bs4\n",
    "from pprint import pprint\n",
    "import pandas as pd\n",
    "import numpy as np\n",
    "import nltk\n",
    "import seaborn as sns\n",
    "import matplotlib.pyplot as plt\n",
    "from nltk.stem.porter import PorterStemmer\n",
    "from nltk.stem import WordNetLemmatizer\n",
    "from sklearn.model_selection import train_test_split\n",
    "from sklearn.metrics import multilabel_confusion_matrix\n",
    "from sklearn.metrics import accuracy_score, precision_score,recall_score,confusion_matrix, roc_curve, roc_auc_score, hamming_loss,classification_report as cr, precision_recall_curve, average_precision_score\n",
    "import warnings\n",
    "warnings.filterwarnings('ignore')"
   ]
  },
  {
   "cell_type": "markdown",
   "metadata": {},
   "source": [
    "# Scraping Data"
   ]
  },
  {
   "cell_type": "code",
   "execution_count": 2,
   "metadata": {},
   "outputs": [],
   "source": [
    "scrape = []# create blank list\n",
    "pages =1 #set page count\n",
    "while True:\n",
    "    r = requests.get(\"http://quotes.toscrape.com/page/%i/\" % pages) \n",
    "    soup = bs4.BeautifulSoup(r.content)\n",
    "    quotes = soup.find_all('div', class_='quote')\n",
    "    \"\"\"ตั้งตัวหยุดหน้าหาก เราหาเจอหน้าว่าง\"\"\"\n",
    "    if quotes == []:\n",
    "        break\n",
    "    else:\n",
    "        for find_quote in quotes:\n",
    "            web_scraping = {} #create dict\n",
    "            web_scraping[\"Quote\"] = find_quote.find('span', class_='text').text  #finding quote and adding to list\n",
    "            web_scraping['Author'] = find_quote.find('small', class_='author').text\n",
    "            web_scraping['Tags'] = [tag.text for tag in find_quote.find_all(\"a\",{\"class\":\"tag\"})] \n",
    "            #(looking for anchor(llink)->{class.tag})\n",
    "            #ถ้าหากเราไม่ใช้ dict comprehension จะต้องสร้างลูป แล้วหา list มาเก็บค่าtagแล้ว เอาเข้า dictweb_scrapingก่อนscrape.append(web_scrap)\n",
    "            \"\"\"\n",
    "            w/o dict comprehension use list to append data before put it in dict \n",
    "            tagg = [] #สร้างตัวแปรมาเก็บข้อมูล อยู่นอกรูป ทุกครั้งที่เปลี่ยนหน้าจะเริ่มเก็บข้อมูลใหม่เพื่อไม่ให้มีข้อมูลซ้ำ\n",
    "            for tag in find_quote.find_all(\"a\",{\"class\":\"tag\"}):\n",
    "                tagg.append(tag.text)\n",
    "            web_scraping[\"Tags\"] = tagg\n",
    "            \n",
    "            \"\"\"\n",
    "            scrape.append(web_scraping) \n",
    "        pages += 1"
   ]
  },
  {
   "cell_type": "markdown",
   "metadata": {},
   "source": [
    "ในการที่จะดึงข้อมูลมาโดยจะสร้าง list มาเก็บค่าที่ดึงมาโดยจะตั้งตัวแปรquotes จากการหาข้อมูล class quote ถ้า เราจะquoteว่างจะหยุดลูป โดยจะทำการดึงข้อมูลโดยการเก็บข้อมูลใน dict โดยหา class ของแต่ละข้อมูล แต่ Tags ต้องดูเป็น dict ข้อมูลจากใน tag"
   ]
  },
  {
   "cell_type": "markdown",
   "metadata": {},
   "source": [
    "# Parse the collected data, and store it in an appropriate file format"
   ]
  },
  {
   "cell_type": "code",
   "execution_count": 3,
   "metadata": {},
   "outputs": [],
   "source": [
    "df =pd.DataFrame(scrape) #สร้าง DataFrame จาก listที่เป็น dict"
   ]
  },
  {
   "cell_type": "code",
   "execution_count": 4,
   "metadata": {},
   "outputs": [],
   "source": [
    "# np.savetxt('target/tags.txt',df['Tags'].values,fmt='%s') #เก็บข้อมูลด้วย numpy\n",
    "# np.savetxt('datastore/quote.txt', df['Quote'].values, fmt='%s',encoding='utf-8') #เก็บข้อมูลโดย encode = utf8"
   ]
  },
  {
   "cell_type": "code",
   "execution_count": 5,
   "metadata": {},
   "outputs": [
    {
     "data": {
      "text/plain": [
       "\"['change', 'deep-thoughts', 'thinking', 'world']\\n\""
      ]
     },
     "execution_count": 5,
     "metadata": {},
     "output_type": "execute_result"
    }
   ],
   "source": [
    "fin = open(\"target/tags.txt\",\"r\",encoding=\"utf-8\")\n",
    "doc2 = fin.readlines()\n",
    "fin.close()\n",
    "doc2[0]#ในทุกข้อมูลจะติด \\n มา "
   ]
  },
  {
   "cell_type": "markdown",
   "metadata": {},
   "source": [
    "## Load Data and Process"
   ]
  },
  {
   "cell_type": "markdown",
   "metadata": {},
   "source": [
    "### Load data by use rstrip() to delete '/n' "
   ]
  },
  {
   "cell_type": "code",
   "execution_count": 6,
   "metadata": {},
   "outputs": [],
   "source": [
    "quote_data = [line.rstrip() for line in open(\"datastore/quote.txt\",\"r\",encoding=\"utf-8\")]"
   ]
  },
  {
   "cell_type": "markdown",
   "metadata": {},
   "source": [
    "ใช้ rstrip()ในการนำ \\n ออกมา จากการดึงข้อมูล"
   ]
  },
  {
   "cell_type": "markdown",
   "metadata": {},
   "source": [
    "### Tokenize Text"
   ]
  },
  {
   "cell_type": "code",
   "execution_count": 7,
   "metadata": {},
   "outputs": [
    {
     "name": "stdout",
     "output_type": "stream",
     "text": [
      "['the', 'world', 'as', 'we', 'have', 'created', 'it', 'is', 'process', 'of', 'our', 'thinking', 'it', 'cannot', 'be', 'changed', 'without', 'changing', 'our', 'thinking']\n"
     ]
    }
   ],
   "source": [
    "from sklearn.feature_extraction.text import CountVectorizer\n",
    "tokenize = CountVectorizer().build_tokenizer()\n",
    "tokens1 = tokenize(quote_data[0].lower())\n",
    "print(tokens1)"
   ]
  },
  {
   "cell_type": "code",
   "execution_count": 8,
   "metadata": {},
   "outputs": [],
   "source": [
    "tokenize = CountVectorizer().build_tokenizer()\n",
    "tokens = []\n",
    "for token in quote_data:\n",
    "    tokens.append(tokenize(token.lower()))\n",
    "    #สร้างลิสต์มาเก็บ token"
   ]
  },
  {
   "cell_type": "markdown",
   "metadata": {},
   "source": [
    "ข้อมูล token จะเป็น listในlist"
   ]
  },
  {
   "cell_type": "code",
   "execution_count": 9,
   "metadata": {},
   "outputs": [],
   "source": [
    "test = [] #สร้างตัวแปรเก็บลิสต์\n",
    "for i in tokens:\n",
    "    \"\"\"\n",
    "    สร้างลูปในการเก็บข้อมูลเพื่อให้เป็นข้อมูล list เดียวกัน\n",
    "    \"\"\"\n",
    "    if i == 0:\n",
    "        test = i\n",
    "    else:\n",
    "        for j in i:\n",
    "            test.append(j)"
   ]
  },
  {
   "cell_type": "code",
   "execution_count": 10,
   "metadata": {
    "scrolled": true
   },
   "outputs": [
    {
     "data": {
      "text/plain": [
       "['the', 'world', 'as', 'we', 'have']"
      ]
     },
     "execution_count": 10,
     "metadata": {},
     "output_type": "execute_result"
    }
   ],
   "source": [
    "tokens1 = tokenize(str(test))\n",
    "tokens1[0:5]"
   ]
  },
  {
   "cell_type": "markdown",
   "metadata": {},
   "source": [
    "### Load tag data using .rstrip()"
   ]
  },
  {
   "cell_type": "code",
   "execution_count": 11,
   "metadata": {
    "scrolled": false
   },
   "outputs": [
    {
     "data": {
      "text/plain": [
       "[\"['change', 'deep-thoughts', 'thinking', 'world']\",\n",
       " \"['abilities', 'choices']\",\n",
       " \"['inspirational', 'life', 'live', 'miracle', 'miracles']\",\n",
       " \"['aliteracy', 'books', 'classic', 'humor']\",\n",
       " \"['be-yourself', 'inspirational']\"]"
      ]
     },
     "execution_count": 11,
     "metadata": {},
     "output_type": "execute_result"
    }
   ],
   "source": [
    "tag_data = [line.rstrip() for line in open('target/tags.txt',\"r\",encoding=\"utf-8\")]\n",
    "tag_data[0:5]"
   ]
  },
  {
   "cell_type": "markdown",
   "metadata": {},
   "source": [
    "ใน tag_data ข้อมูล จะเป็น list แล้วมี string รูปแบบ list อยู่ดังนั้น เราจะดูเข้ามาใน string ข้อมูลแล้วใช้ split ข้อมูลออกมาจะได้ข้อมูลเป็นลิสต์ในรูปแบบ [[\"'x'\",\"'y'\"],[...]]"
   ]
  },
  {
   "cell_type": "code",
   "execution_count": 12,
   "metadata": {},
   "outputs": [],
   "source": [
    "convert = [i[1 : -1].split(', ') for i in tag_data]  # Change list of String that represent in list format to list of list"
   ]
  },
  {
   "cell_type": "code",
   "execution_count": 13,
   "metadata": {},
   "outputs": [],
   "source": [
    "find_count_tag = []\n",
    "for _list_ in convert:\n",
    "    \"\"\"หา tag ทั้งหมด\"\"\"\n",
    "    for elements in (_list_):\n",
    "        if _list_ == '': #\"ถ้าในลิสต์นั้นเป็น str เปล่าจะ ไม่ใช้\"\n",
    "            continue\n",
    "        else:\n",
    "            find_count_tag.append(elements)"
   ]
  },
  {
   "cell_type": "code",
   "execution_count": 14,
   "metadata": {},
   "outputs": [
    {
     "name": "stdout",
     "output_type": "stream",
     "text": [
      "[\"'change'\", \"'deep-thoughts'\", \"'thinking'\", \"'world'\", \"'abilities'\", \"'choices'\", \"'inspirational'\", \"'life'\", \"'live'\", \"'miracle'\", \"'miracles'\", \"'aliteracy'\", \"'books'\", \"'classic'\", \"'humor'\", \"'be-yourself'\", \"'inspirational'\", \"'adulthood'\", \"'success'\", \"'value'\", \"'life'\", \"'love'\", \"'edison'\", \"'failure'\", \"'inspirational'\", \"'paraphrased'\", \"'misattributed-eleanor-roosevelt'\", \"'humor'\", \"'obvious'\", \"'simile'\", \"'friends'\", \"'heartbreak'\", \"'inspirational'\", \"'life'\", \"'love'\", \"'sisters'\", \"'courage'\", \"'friends'\", \"'simplicity'\", \"'understand'\", \"'love'\", \"'fantasy'\", \"'life'\", \"'navigation'\", \"'activism'\", \"'apathy'\", \"'hate'\", \"'indifference'\", \"'inspirational'\", \"'love'\", \"'opposite'\", \"'philosophy'\", \"'friendship'\", \"'lack-of-friendship'\", \"'lack-of-love'\", \"'love'\", \"'marriage'\", \"'unhappy-marriage'\", \"'books'\", \"'contentment'\", \"'friends'\", \"'friendship'\", \"'life'\", \"'fate'\", \"'life'\", \"'misattributed-john-lennon'\", \"'planning'\", \"'plans'\", \"'love'\", \"'poetry'\", \"'happiness'\", \"'attributed-no-source'\", \"'humor'\", \"'religion'\", \"'humor'\", \"'comedy'\", \"'life'\", \"'yourself'\", \"'children'\", \"'fairy-tales'\", '', \"'imagination'\", \"'music'\", \"'learning'\", \"'reading'\", \"'seuss'\", \"'dumbledore'\", \"'friendship'\", \"'misattributed-to-mother-teresa'\", \"'paraphrased'\", \"'death'\", \"'inspirational'\", \"'chocolate'\", \"'food'\", \"'humor'\", \"'misattributed-to-c-s-lewis'\", \"'reading'\", \"'knowledge'\", \"'learning'\", \"'understanding'\", \"'wisdom'\", \"'books'\", \"'library'\", \"'inspirational'\", \"'read'\", \"'readers'\", \"'reading'\", \"'reading-books'\", \"'books'\", \"'inspirational'\", \"'reading'\", \"'tea'\", '', \"'girls'\", \"'love'\", \"'life'\", \"'simile'\", \"'love'\", \"'attributed-no-source'\", \"'hope'\", \"'inspirational'\", \"'dumbledore'\", \"'love'\", \"'friendship'\", \"'love'\", \"'attributed'\", \"'fear'\", \"'inspiration'\", \"'attributed-no-source'\", \"'music'\", \"'books'\", \"'thought'\", \"'misattributed-to-einstein'\", \"'drug'\", \"'romance'\", \"'simile'\", \"'books'\", \"'friends'\", \"'novelist-quotes'\", \"'inspirational'\", \"'inspirational'\", \"'life'\", \"'yourself'\", \"'alcohol'\", \"'the-hunger-games'\", \"'humor'\", \"'love'\", \"'bilbo'\", \"'journey'\", \"'lost'\", \"'quest'\", \"'travel'\", \"'wander'\", \"'live-death-love'\", \"'good'\", \"'writing'\", \"'life'\", \"'regrets'\", \"'education'\", \"'troubles'\", \"'friendship'\", \"'love'\", \"'humor'\", \"'humor'\", \"'open-mind'\", \"'thinking'\", \"'humor'\", \"'philosophy'\", \"'authors'\", \"'books'\", \"'literature'\", \"'reading'\", \"'writing'\", \"'humor'\", \"'insanity'\", \"'lies'\", \"'lying'\", \"'self-indulgence'\", \"'truth'\", \"'beatles'\", \"'connection'\", \"'dreamers'\", \"'dreaming'\", \"'dreams'\", \"'hope'\", \"'inspirational'\", \"'peace'\", \"'humor'\", \"'sinister'\", '', \"'books'\", \"'classic'\", \"'reading'\", \"'mistakes'\", \"'humor'\", \"'love'\", \"'romantic'\", \"'women'\", \"'integrity'\", \"'books'\", \"'library'\", \"'reading'\", \"'elizabeth-bennet'\", \"'jane-austen'\", \"'age'\", \"'fairytales'\", \"'growing-up'\", \"'god'\", \"'death'\", \"'life'\", \"'misattributed-mark-twain'\", \"'truth'\", \"'christianity'\", \"'faith'\", \"'religion'\", \"'sun'\", \"'truth'\", \"'death'\", \"'life'\", \"'adventure'\", \"'love'\", \"'courage'\", \"'life'\", \"'better-life-empathy'\", \"'books'\", \"'children'\", \"'difficult'\", \"'grown-ups'\", \"'write'\", \"'writers'\", \"'writing'\", \"'truth'\", \"'inspirational'\", \"'books'\", \"'mind'\"]\n"
     ]
    }
   ],
   "source": [
    "print(find_count_tag)"
   ]
  },
  {
   "cell_type": "code",
   "execution_count": 15,
   "metadata": {},
   "outputs": [
    {
     "data": {
      "text/plain": [
       "'love'               14\n",
       "'life'               13\n",
       "'inspirational'      13\n",
       "'humor'              12\n",
       "'books'              11\n",
       "                     ..\n",
       "'sisters'             1\n",
       "'fairytales'          1\n",
       "'connection'          1\n",
       "'live-death-love'     1\n",
       "'attributed'          1\n",
       "Length: 138, dtype: int64"
      ]
     },
     "execution_count": 15,
     "metadata": {},
     "output_type": "execute_result"
    }
   ],
   "source": [
    "count_tag = pd.Series(find_count_tag)\n",
    "count_tag.value_counts(sort=True)# sort tag"
   ]
  },
  {
   "cell_type": "code",
   "execution_count": 16,
   "metadata": {},
   "outputs": [
    {
     "data": {
      "text/plain": [
       "'love'                    14\n",
       "'life'                    13\n",
       "'inspirational'           13\n",
       "'humor'                   12\n",
       "'books'                   11\n",
       "'reading'                  7\n",
       "'friendship'               5\n",
       "'friends'                  4\n",
       "'truth'                    4\n",
       "'attributed-no-source'     3\n",
       "'simile'                   3\n",
       "'writing'                  3\n",
       "'death'                    3\n",
       "                           3\n",
       "'children'                 2\n",
       "'courage'                  2\n",
       "dtype: int64"
      ]
     },
     "execution_count": 16,
     "metadata": {},
     "output_type": "execute_result"
    }
   ],
   "source": [
    "count_tag.value_counts(sort=True).nlargest(16)#หา15ตัวแปรที่เยอะที่สุด ใช้16พอมีข้อมูลว่าง"
   ]
  },
  {
   "cell_type": "code",
   "execution_count": 17,
   "metadata": {},
   "outputs": [],
   "source": [
    "top_tag = ['love','inspirational','life','humor','books','reading','friendship','friends','truth','writing','death',\\\n",
    "           'attributed-no-source','simile','library','yourself'] #Create top 15 tag"
   ]
  },
  {
   "cell_type": "code",
   "execution_count": 18,
   "metadata": {},
   "outputs": [],
   "source": [
    "label = [] #create list to add label\n",
    "for tag in convert:\n",
    "    \"\"\"\n",
    "    ข้อมูลใน convert จะอยู่ในรูปแบบที่แปลก ดังนั้นเราจะทำการลบ quote ที่เกินออกมาด้วย replaceเปลี่ยนเป็นช่องว่าง\n",
    "    \"\"\"\n",
    "    new_tag = [] \n",
    "    for tagintoptag in tag:\n",
    "        if tagintoptag.replace(\"'\",\"\") in top_tag: #replace ' ออกเนื่องจากข้อมูลเป็นรูปแบบ '\"deep thoughts\"' \n",
    "            new_tag.append(tagintoptag)\n",
    "    label.append(new_tag)\n"
   ]
  },
  {
   "cell_type": "markdown",
   "metadata": {},
   "source": [
    "# Text PreProcessing"
   ]
  },
  {
   "cell_type": "markdown",
   "metadata": {},
   "source": [
    "ตั้งสมมติฐานในการทำงานโดยจะกำหนด\n",
    "\n",
    "1.More_Words คือ การตัดคำที่เหลือจำนวนคำเยอะ (min_df = 3)\n",
    "\n",
    "\n",
    "2.Less_Words คือ การตัดคำทีั่เหลือจำนวนคำที่น้อยซึ่งจะใช้ในการต่อหลังจากการที่นำข้อมูลผู้แต่ง quote มาใช้ (min_df = 5)\n",
    "\n",
    "\n",
    "\n",
    "โดยกระบวนการตัดคำจะแบ่งเป็นรูปแบบดังนี้\n",
    "    1. lemma_tokenizer\n",
    "\n",
    "ซึ่งวิธีอื่นๆ เช่น lemma with pos tag & stem คือจำนวนคำ ที่ได้มีการจัดทำต่างกัน\n",
    "\n",
    "ซึ่งที่เลือกใช้ lemma เพราะอยากได้ base ของคำ(Morphological) ที่เหมาะสมมากกว่า"
   ]
  },
  {
   "cell_type": "code",
   "execution_count": 19,
   "metadata": {},
   "outputs": [],
   "source": [
    "def lemma_tokenizer(text):\n",
    "    standard_tokenizer = CountVectorizer().build_tokenizer()\n",
    "    tokens = standard_tokenizer(text)\n",
    "    lemmatizer = nltk.stem.WordNetLemmatizer()\n",
    "    lemma_tokens = []\n",
    "    for token in tokens:\n",
    "        lemma_tokens.append( lemmatizer.lemmatize(token))\n",
    "    return lemma_tokens"
   ]
  },
  {
   "cell_type": "code",
   "execution_count": 20,
   "metadata": {
    "scrolled": true
   },
   "outputs": [
    {
     "name": "stdout",
     "output_type": "stream",
     "text": [
      "(100, 60)\n"
     ]
    }
   ],
   "source": [
    "vectorizer = CountVectorizer(stop_words=\"english\",min_df = 3,tokenizer=lemma_tokenizer)\n",
    "X = vectorizer.fit_transform(quote_data)\n",
    "print(X.shape)"
   ]
  },
  {
   "cell_type": "markdown",
   "metadata": {},
   "source": [
    "# Model\n",
    "ในการทำโมเดล ในช่วงแรกจะมีการเปรียบเทียบโดยใช้ hold out aka.Train test split และได้ TUNE โดย GridSearchCV ก่อนนำไปใช้ใน NestedCV"
   ]
  },
  {
   "cell_type": "code",
   "execution_count": 21,
   "metadata": {},
   "outputs": [],
   "source": [
    "from sklearn.model_selection import GridSearchCV\n",
    "from sklearn.model_selection import KFold\n",
    "from sklearn.model_selection import cross_val_score\n",
    "from sklearn.model_selection import cross_val_score"
   ]
  },
  {
   "cell_type": "code",
   "execution_count": 22,
   "metadata": {},
   "outputs": [
    {
     "data": {
      "text/plain": [
       "array([[0, 0, 0, ..., 0, 0, 0],\n",
       "       [0, 0, 0, ..., 0, 0, 0],\n",
       "       [0, 0, 0, ..., 0, 0, 0],\n",
       "       ...,\n",
       "       [0, 0, 0, ..., 1, 0, 0],\n",
       "       [0, 0, 0, ..., 0, 0, 0],\n",
       "       [0, 1, 0, ..., 0, 0, 0]])"
      ]
     },
     "execution_count": 22,
     "metadata": {},
     "output_type": "execute_result"
    }
   ],
   "source": [
    "from sklearn import preprocessing\n",
    "multi_label = preprocessing.MultiLabelBinarizer()\n",
    "multi_label.fit(label)\n",
    "labels = multi_label.transform(label)\n",
    "labels"
   ]
  },
  {
   "cell_type": "code",
   "execution_count": 23,
   "metadata": {},
   "outputs": [],
   "source": [
    "list(multi_label.classes_) #สร้างlistจากclassของlabel\n",
    "y = pd.DataFrame(labels,columns=list(multi_label.classes_)) #set columns by list that contain name of the columns(tags)"
   ]
  },
  {
   "cell_type": "code",
   "execution_count": 24,
   "metadata": {},
   "outputs": [],
   "source": [
    "#!pip install scikit-multilearn"
   ]
  },
  {
   "cell_type": "markdown",
   "metadata": {},
   "source": [
    "## NaiveBaynes Comparison"
   ]
  },
  {
   "cell_type": "code",
   "execution_count": 25,
   "metadata": {},
   "outputs": [],
   "source": [
    "from skmultilearn.problem_transform import BinaryRelevance\n",
    "from skmultilearn.problem_transform import ClassifierChain\n",
    "from skmultilearn.problem_transform import LabelPowerset\n",
    "from sklearn.naive_bayes import BernoulliNB, MultinomialNB"
   ]
  },
  {
   "cell_type": "code",
   "execution_count": 26,
   "metadata": {},
   "outputs": [],
   "source": [
    "X_train,X_test,y_train,y_test = train_test_split(X,y,test_size=0.3,random_state=420)"
   ]
  },
  {
   "cell_type": "markdown",
   "metadata": {},
   "source": [
    "### Naive Baynes with BinaryRelevance"
   ]
  },
  {
   "cell_type": "code",
   "execution_count": 27,
   "metadata": {
    "scrolled": true
   },
   "outputs": [
    {
     "name": "stdout",
     "output_type": "stream",
     "text": [
      "|-------------------- Accuracy Testing --------------------|\n",
      " Multinomia Naive Baynes accuracy:  0.36666666666666664\n",
      " Precision Score Multinomial:  0.8\n",
      " Recall Score Multinomial:  0.8\n",
      "|----------------------------------------------------------|\n",
      " Bernoulib Naive Baynes accuracy:  0.36666666666666664\n",
      " Precision Score Bernoulib:  0.75\n",
      " Recall Score Bernoulib:  0.6\n"
     ]
    }
   ],
   "source": [
    "bnr_rlv_multi = BinaryRelevance(MultinomialNB())\n",
    "bnr_rlv_bi = BinaryRelevance(BernoulliNB(alpha=0.7))\n",
    "bnr_rlv_multi.fit(X_train,y_train)\n",
    "multi_pred = bnr_rlv_multi.predict(X_test)\n",
    "bnr_rlv_bi.fit(X_train,y_train)\n",
    "bi_pred = bnr_rlv_bi.predict(X_test)\n",
    "\"\"\"\n",
    "    กำหนด labels ในตัว precision&recall เป็น 0,1 ตาม binary ของคำตอบที่เราแบ่งmulti label ให้มี 0,1 \n",
    "\"\"\"\n",
    "print(\"|-------------------- Accuracy Testing --------------------|\")\n",
    "print(\" Multinomia Naive Baynes accuracy: \",accuracy_score(y_test, multi_pred))\n",
    "print(\" Precision Score Multinomial: \",precision_score(y_test,multi_pred,labels=[0,1],average='micro')) \n",
    "print(\" Recall Score Multinomial: \",recall_score(y_test, multi_pred,labels=[0,1],average='micro'))\n",
    "print(\"|----------------------------------------------------------|\")\n",
    "print(\" Bernoulib Naive Baynes accuracy: \",accuracy_score(y_test, bi_pred))\n",
    "print(\" Precision Score Bernoulib: \",precision_score(y_test,bi_pred,labels=[0,1],average='micro'))\n",
    "print(\" Recall Score Bernoulib: \",recall_score(y_test,bi_pred,labels=[0,1],average='micro'))"
   ]
  },
  {
   "cell_type": "markdown",
   "metadata": {},
   "source": [
    "เราจะเห็นว่า Multinomial สามารถทายผล  class และ ความถูกต้องโดยรวมของข้อมูลได้ แม่นยำกว่า แม้ accuracy ของโมเดลจะเท่ากันก็ตาม"
   ]
  },
  {
   "cell_type": "markdown",
   "metadata": {},
   "source": [
    "### Testing with Leave one out"
   ]
  },
  {
   "cell_type": "code",
   "execution_count": 28,
   "metadata": {},
   "outputs": [],
   "source": [
    "scores1 = cross_val_score(BinaryRelevance(MultinomialNB()) , X , y , cv = X.shape[0]) #CV with all X\n",
    "scores2 = cross_val_score(BinaryRelevance(BernoulliNB(alpha=0.7)) , X , y , cv = X.shape[0])"
   ]
  },
  {
   "cell_type": "code",
   "execution_count": 29,
   "metadata": {},
   "outputs": [
    {
     "name": "stdout",
     "output_type": "stream",
     "text": [
      "Multinomial Accuracy: 35.00 (+/- 0.48)\n",
      "Bernoulib Accuracy: 33.00 (+/- 0.47)\n"
     ]
    }
   ],
   "source": [
    "print(\"Multinomial Accuracy: %0.2f (+/- %0.2f)\" % (scores1.mean()*100, scores1.std())) #\n",
    "print(\"Bernoulib Accuracy: %0.2f (+/- %0.2f)\" % (scores2.mean()*100, scores2.std()))"
   ]
  },
  {
   "cell_type": "markdown",
   "metadata": {},
   "source": [
    "### Naive Bayne with ClassifierChain"
   ]
  },
  {
   "cell_type": "code",
   "execution_count": 30,
   "metadata": {
    "scrolled": true
   },
   "outputs": [
    {
     "name": "stdout",
     "output_type": "stream",
     "text": [
      "|-------------------- Accuracy Testing --------------------|\n",
      " Multinomia Naive Baynes accuracy:  0.3333333333333333\n",
      " Precision Score Multinomail:  0.8\n",
      " Recall Score Multinomial:  0.8\n",
      "|----------------------------------------------------------|\n",
      " Bernoulib Naive Baynes accuracy:  0.36666666666666664\n",
      " Precision Score Bernoulib:  0.6\n",
      " Recall Score Bernoulib:  0.6\n"
     ]
    }
   ],
   "source": [
    "chain_multi = ClassifierChain(MultinomialNB())\n",
    "chain_bi = ClassifierChain(BernoulliNB(alpha=0.7))\n",
    "chain_multi.fit(X_train,y_train)\n",
    "chain_multi_pred = chain_multi.predict(X_test)\n",
    "chain_bi.fit(X_train,y_train)\n",
    "chain_bi_pred = chain_bi.predict(X_test)\n",
    "print(\"|-------------------- Accuracy Testing --------------------|\")\n",
    "print(\" Multinomia Naive Baynes accuracy: \",accuracy_score(y_test, chain_multi_pred))\n",
    "print(\" Precision Score Multinomail: \",precision_score(y_test, chain_multi_pred,labels=[0,1],average='micro'))\n",
    "print(\" Recall Score Multinomial: \",recall_score(y_test, chain_multi_pred,labels=[0,1],average='micro'))\n",
    "print(\"|----------------------------------------------------------|\")\n",
    "print(\" Bernoulib Naive Baynes accuracy: \",accuracy_score(y_test, chain_bi_pred))\n",
    "print(\" Precision Score Bernoulib: \",precision_score(y_test, chain_bi_pred,labels=[0,1],average='micro'))\n",
    "print(\" Recall Score Bernoulib: \",recall_score(y_test,chain_bi_pred,labels=[0,1],average='micro'))"
   ]
  },
  {
   "cell_type": "markdown",
   "metadata": {},
   "source": [
    "จาก ClassifierChain เราะเห็นได้ว่าแม้ความแม่นยำจะต่างไปไม่มาก แต่ค่า Recall&Precision จะต่างกันอยู่ถึง 20%"
   ]
  },
  {
   "cell_type": "markdown",
   "metadata": {},
   "source": [
    "### Testing with Leave one out"
   ]
  },
  {
   "cell_type": "code",
   "execution_count": 31,
   "metadata": {},
   "outputs": [
    {
     "name": "stdout",
     "output_type": "stream",
     "text": [
      "Multinomial Accuracy: 33.00 (+/- 0.47)\n",
      "Bernoulib Accuracy: 33.00 (+/- 0.47)\n"
     ]
    }
   ],
   "source": [
    "scores1 = cross_val_score(ClassifierChain(MultinomialNB()) , X , y , cv = X.shape[0])\n",
    "scores2 = cross_val_score(ClassifierChain(BernoulliNB(alpha=0.7)) , X , y , cv = X.shape[0])\n",
    "print(\"Multinomial Accuracy: %0.2f (+/- %0.2f)\" % (scores1.mean()*100, scores1.std()))\n",
    "print(\"Bernoulib Accuracy: %0.2f (+/- %0.2f)\" % (scores2.mean()*100, scores2.std()))"
   ]
  },
  {
   "cell_type": "markdown",
   "metadata": {},
   "source": [
    "### Naive Baynes with LabelPowerset"
   ]
  },
  {
   "cell_type": "code",
   "execution_count": 32,
   "metadata": {
    "scrolled": false
   },
   "outputs": [
    {
     "name": "stdout",
     "output_type": "stream",
     "text": [
      "|-------------------- Accuracy Testing --------------------|\n",
      " Multinomia Naive Baynes accuracy:  0.6666666666666666\n",
      " Precision Score :  1.0\n",
      " Recall Score :  0.6\n",
      "|----------------------------------------------------------|\n",
      " Bernoulib Naive Baynes accuracy:  0.43333333333333335\n",
      " Precision Score :  1.0\n",
      " Recall Score :  0.12903225806451613\n"
     ]
    }
   ],
   "source": [
    "multi_power = LabelPowerset(MultinomialNB())\n",
    "bi_power = LabelPowerset(BernoulliNB(alpha=0.7))\n",
    "multi_power.fit(X_test,y_test)\n",
    "multi_power_pred = multi_power.predict(X_test)\n",
    "bi_power.fit(X_test,y_test)\n",
    "bi_power_pred = bi_power.predict(X_test)\n",
    "print(\"|-------------------- Accuracy Testing --------------------|\")\n",
    "print(\" Multinomia Naive Baynes accuracy: \",accuracy_score(y_test, multi_power_pred))\n",
    "print(\" Precision Score : \",precision_score(y_test, multi_power_pred,labels=[0,1],average='micro'))\n",
    "print(\" Recall Score : \",recall_score(y_test, multi_power_pred,labels=[0,1],average='micro'))\n",
    "print(\"|----------------------------------------------------------|\")\n",
    "print(\" Bernoulib Naive Baynes accuracy: \",accuracy_score(y_test, bi_power_pred))\n",
    "print(\" Precision Score : \",precision_score(y_test, bi_power_pred,average='micro'))\n",
    "print(\" Recall Score : \",recall_score(y_test, bi_power_pred,average='micro'))"
   ]
  },
  {
   "cell_type": "markdown",
   "metadata": {},
   "source": [
    "### Testing with Leave one out"
   ]
  },
  {
   "cell_type": "code",
   "execution_count": 33,
   "metadata": {},
   "outputs": [
    {
     "name": "stdout",
     "output_type": "stream",
     "text": [
      "Multinomial Accuracy: 33.00 (+/- 0.47)\n",
      "Bernoulib Accuracy: 33.00 (+/- 0.47)\n"
     ]
    }
   ],
   "source": [
    "scores1 = cross_val_score(multi_power , X , y , cv = X.shape[0])\n",
    "scores2 = cross_val_score( bi_power, X , y , cv = X.shape[0])\n",
    "print(\"Multinomial Accuracy: %0.2f (+/- %0.2f)\" % (scores1.mean()*100, scores1.std()))\n",
    "print(\"Bernoulib Accuracy: %0.2f (+/- %0.2f)\" % (scores2.mean()*100, scores2.std()))"
   ]
  },
  {
   "cell_type": "markdown",
   "metadata": {},
   "source": [
    "Label Powerset traines on all unique label combinations found in the training data.\n",
    "ดังนั้น การทำการคำนวณหรือ test ที่มีการซับซ้อนหรือเยอะเช่นการเปรียบเทียบที่เยอะเกินไปอาจทำให้ความแม่นยำลดลง"
   ]
  },
  {
   "cell_type": "markdown",
   "metadata": {},
   "source": [
    "### Nested CV"
   ]
  },
  {
   "cell_type": "code",
   "execution_count": 34,
   "metadata": {},
   "outputs": [],
   "source": [
    "from numpy import mean\n",
    "from numpy import std"
   ]
  },
  {
   "cell_type": "code",
   "execution_count": 35,
   "metadata": {},
   "outputs": [],
   "source": [
    "\n",
    "models_lst = [BinaryRelevance(),BinaryRelevance(),ClassifierChain(),ClassifierChain(),LabelPowerset(),LabelPowerset()]#Model list\n",
    "\"\"\"สำหรับการทำ Multi label tech เราจะต้องกำหนดโมเดลเป็นการทำmulti แล้วสร้างพารามีเตอร์ที่มี Classifierออกมา\n",
    "        ซึ่งพอเรากำหนด classifier ตัว parameter จะต้องใส่ classifer__นำหน้าเสมอ\n",
    "    \"\"\"\n",
    "parameter = [{ #Create Parameter for tune\n",
    "\n",
    "        'classifier': [MultinomialNB()], \n",
    "        'classifier__alpha': [0.5,0.7, 1.0,10.0]\n",
    "    },\n",
    "    {\n",
    "        'classifier':[BernoulliNB()],\n",
    "        'classifier_alpha': [0.5,0.7,1.0,10.0]\n",
    "    }\n",
    "]\n",
    "\n",
    "model_name = ['BinaryRelevanceMultinomial','BinaryRelevanceBernoulli','ClassifierChainMultinomial'\\\n",
    "             ,'ClassifierChainBernoulli','LabelPowersetMultinobial','LabelPowersetBernoulli']"
   ]
  },
  {
   "cell_type": "code",
   "execution_count": 36,
   "metadata": {},
   "outputs": [
    {
     "name": "stdout",
     "output_type": "stream",
     "text": [
      "BinaryRelevanceMultinomial:  \n",
      "Nested_CV :  34.00  %\n",
      "Best_parameter:  {'classifier': MultinomialNB(alpha=10.0), 'classifier__alpha': 10.0}\n",
      "\n",
      "BinaryRelevanceBernoulli:  \n",
      "Nested_CV :  34.00  %\n",
      "Best_parameter:  {'classifier': MultinomialNB(alpha=10.0), 'classifier__alpha': 10.0}\n",
      "\n",
      "ClassifierChainMultinomial:  \n",
      "Nested_CV :  34.00  %\n",
      "Best_parameter:  {'classifier': MultinomialNB(alpha=10.0), 'classifier__alpha': 10.0}\n",
      "\n",
      "ClassifierChainBernoulli:  \n",
      "Nested_CV :  34.00  %\n",
      "Best_parameter:  {'classifier': MultinomialNB(alpha=10.0), 'classifier__alpha': 10.0}\n",
      "\n",
      "LabelPowersetMultinobial:  \n",
      "Nested_CV :  33.00  %\n",
      "Best_parameter:  {'classifier': MultinomialNB(alpha=10.0), 'classifier__alpha': 10.0}\n",
      "\n",
      "LabelPowersetBernoulli:  \n",
      "Nested_CV :  33.00  %\n",
      "Best_parameter:  {'classifier': MultinomialNB(alpha=10.0), 'classifier__alpha': 10.0}\n",
      "\n"
     ]
    }
   ],
   "source": [
    "count = 0\n",
    "for i in models_lst:\n",
    "    # Choose cross-validation techniques for the inner and outer loops,\n",
    "    # independently of the dataset.\n",
    "    inner_cv = KFold(n_splits=4, shuffle=True, random_state=2) #Create K-Fold for shuffle parameter / cv สำหรับการเช็คข้างใน\n",
    "    outer_cv = KFold(n_splits=4, shuffle=True, random_state=2) #ใช้ภายนอก\n",
    "    # Optimizing Parameter\n",
    "    clf = GridSearchCV(i, parameter[0:1], cv=inner_cv) # หาค่าพารามีเตอร์ที่ดีที่สุด\n",
    "    clf.fit(X, y)\n",
    "\n",
    "    # Nested CV with parameter optimization\n",
    "    nested_score = cross_val_score(clf, X, y, cv=outer_cv)\n",
    "    print(model_name[count]+\":  \")\n",
    "    print('Nested_CV :  '+'%.2f ' %(nested_score.mean()*100)+' %')\n",
    "    print('Best_parameter:  '+str(clf.best_params_))\n",
    "    print('')\n",
    "    count += 1"
   ]
  },
  {
   "cell_type": "markdown",
   "metadata": {},
   "source": [
    "### Naive Baynes Basic Comparison Summary\n",
    "ในการทดสอบ Naive Baynes เราได้ทำการทดสอบด้วย Naive Baynes สองแบบคือ Multinomial&Bernoulli\n",
    "\n",
    "โดยใช้หลักการของ Multi learn 3แบบคือ\n",
    "\n",
    "    1. BinaryRelevance -Transforms a multi-label classification problem with L labels into L single-label separate binary classification problems. แยก y ออกแล้วดูเป็นตัวๆ\n",
    "\n",
    "    2. ClassifierChain- ค่อยๆรวม class(y1,y2)ไปจนถึง yn\n",
    "\n",
    "    3. LabelPowerset - การดูรวมคลาสแล้วเข้าสู่รูปแบบของความน่าจะเป็นในการหาโอกาสที่จะเกิดขึ้น\n",
    "   \n",
    "เราจะเห็นได้ว่าหากเราอิงความแม่นยำและ Precision&Recall เราจะเห็นว่า Multinomial จะดีกว่ารวมถึงการใช้ควบคู่กับ LabelPowerSet\n",
    "\n",
    "แต่ถ้าเราเปรียบเทียบจากการทำ Leave one out จะเห็นได้ว่า BinaryRelevance ของ Multinomial ให้ค่าผลลัพธ์ดีที่สุดคือ 35% ซึ่งหมายความว่า\n",
    "Train test split ที่แบ่ง อาจเป็น lucky split\n",
    "\n",
    "ถ้าหากเรา Tune parameter with gridsearch CV แล้วนำมาหา nested cv จะได้ค่าความแม่นยำใกล้เคียงกับ leave one out ที่ไม่ได้ Tune"
   ]
  },
  {
   "cell_type": "code",
   "execution_count": 37,
   "metadata": {
    "scrolled": false
   },
   "outputs": [
    {
     "data": {
      "image/png": "[encoded data removed]",
      "text/plain": [
       "<Figure size 432x288 with 1 Axes>"
      ]
     },
     "metadata": {
      "needs_background": "light"
     },
     "output_type": "display_data"
    }
   ],
   "source": [
    "multi_acc = (accuracy_score(y_test, multi_pred),accuracy_score(y_test, chain_multi_pred),accuracy_score(y_test, multi_power_pred))\n",
    "bi_acc = (accuracy_score(y_test, bi_pred),accuracy_score(y_test, chain_bi_pred),accuracy_score(y_test, bi_power_pred))\n",
    "width = 0.4\n",
    "plt.bar(np.arange(3),multi_acc,width,label =\"MultinomialNB\")\n",
    "plt.bar(np.arange(3)+width,bi_acc,width,label =\"BernoulliNB\")# + width เพราะให้กราฟที่plotออกมาไม่ติดกัน\n",
    "plt.ylabel('Accuracy')\n",
    "plt.title('Naive baynes Accuracy')\n",
    "\n",
    "plt.xticks(np.arange(3) + width / 2, ('BinaryRelevance', 'ChainClassifier', 'LabelPowerset'))\n",
    "plt.legend(loc='best')\n",
    "plt.show()"
   ]
  },
  {
   "cell_type": "markdown",
   "metadata": {},
   "source": [
    "กราฟแสดงการเปรียบเทียบความแม่นยำในการทำ train test split โดยมีโอกาสเป็น Lucky Split"
   ]
  },
  {
   "cell_type": "code",
   "execution_count": 38,
   "metadata": {
    "scrolled": false
   },
   "outputs": [
    {
     "data": {
      "image/png": "[encoded data removed]",
      "text/plain": [
       "<Figure size 1296x720 with 1 Axes>"
      ]
     },
     "metadata": {
      "needs_background": "light"
     },
     "output_type": "display_data"
    }
   ],
   "source": [
    "fig, ax = plt.subplots(figsize = (18,10))\n",
    "tts = (accuracy_score(y_test, multi_pred),accuracy_score(y_test, bi_pred),accuracy_score(y_test, chain_multi_pred),\\\n",
    "       accuracy_score(y_test, chain_bi_pred),accuracy_score(y_test, multi_power_pred),accuracy_score(y_test, bi_power_pred))\n",
    "loo = (0.35,0.33,0.33,0.33,0.33,0.33)\n",
    "nested = (0.34,0.34,0.34,0.34,0.33,0.33)\n",
    "width = 0.2\n",
    "plt.bar(np.arange(6),tts,width,label =\"Train Test Split\")\n",
    "plt.bar(np.arange(6)+(width),loo,width,label =\"Leave one out\")\n",
    "plt.bar(np.arange(6)+(2*width),nested,width,label =\"Nested CV\")\n",
    "plt.ylabel('Accuracy')\n",
    "plt.title('Naive baynes Accuracy')\n",
    "plt.xlabel('Evaluation')\n",
    "plt.xticks(np.arange(6) + (1.5*width) , ('BinaryRelevanceMultinomial','BinaryRelevanceBernoullib', \\\n",
    "                        'ChainClassifierMultinomial','ChainClassifierBernoullib', 'LabelPowersetMultinomial','LabelPowersetBernoullib'))\n",
    "plt.legend(loc='best')\n",
    "plt.grid()\n",
    "plt.show()"
   ]
  },
  {
   "cell_type": "markdown",
   "metadata": {},
   "source": [
    "จากภาพด้านบนเราจะเห็นได้ว่าในส่วนของการทำ traintestsplit มีค่าความแม่นยำที่สูงเกินกว่าปกติ อาจเป็นเพราะ lucky split ที่ไม่เหมาะสม\n",
    "\n",
    "ในส่วนของการทำ Cross valid จะสังเกตุ เห็นได้ว่าค่าที่มีนั้นใกล้เคียงกัน"
   ]
  },
  {
   "cell_type": "markdown",
   "metadata": {},
   "source": [
    "## Tree"
   ]
  },
  {
   "cell_type": "code",
   "execution_count": 39,
   "metadata": {},
   "outputs": [],
   "source": [
    "Xt_train,Xt_test,yt_train,yt_test = train_test_split(X,y,random_state=420)"
   ]
  },
  {
   "cell_type": "code",
   "execution_count": 40,
   "metadata": {},
   "outputs": [],
   "source": [
    "from sklearn.ensemble import RandomForestClassifier\n",
    "from sklearn.ensemble import BaggingClassifier\n",
    "from sklearn.tree import ExtraTreeClassifier\n",
    "from sklearn.tree import DecisionTreeClassifier"
   ]
  },
  {
   "cell_type": "markdown",
   "metadata": {},
   "source": [
    "### Random Forest"
   ]
  },
  {
   "cell_type": "code",
   "execution_count": 41,
   "metadata": {},
   "outputs": [],
   "source": [
    "rfc = RandomForestClassifier()\n",
    "rfc.fit(Xt_train,yt_train)\n",
    "rfc_pred = rfc.predict(Xt_test)\n",
    "#In multi-label classification, this is the subset accuracy which is a harsh metric \n",
    "#require for each sample that each label set be correctly predicted"
   ]
  },
  {
   "cell_type": "code",
   "execution_count": 42,
   "metadata": {},
   "outputs": [
    {
     "name": "stdout",
     "output_type": "stream",
     "text": [
      "Random forest Accuracy:  0.4\n"
     ]
    }
   ],
   "source": [
    "print(\"Random forest Accuracy: \",rfc.score(Xt_test,yt_test))"
   ]
  },
  {
   "cell_type": "code",
   "execution_count": 43,
   "metadata": {},
   "outputs": [
    {
     "name": "stdout",
     "output_type": "stream",
     "text": [
      "Mean Absolute Error: 0.061333333333333344\n",
      "Mean Squared Error: 0.061333333333333344\n",
      "Root Mean Squared Error: 0.24765567494675617\n"
     ]
    }
   ],
   "source": [
    "from sklearn import metrics\n",
    "\n",
    "print('Mean Absolute Error:', metrics.mean_absolute_error(yt_test, rfc_pred))\n",
    "print('Mean Squared Error:', metrics.mean_squared_error(yt_test, rfc_pred))\n",
    "print('Root Mean Squared Error:', np.sqrt(metrics.mean_squared_error(yt_test, rfc_pred)))"
   ]
  },
  {
   "cell_type": "markdown",
   "metadata": {},
   "source": [
    "เราจะเห็นได้ว่า ส่วนมากค่า Error จะไม่สูงมากมีเพียงแค่ RMSE ที่มีค่ามากอยู่ที่ 20% อาจเกิดจากข้อมูลที่ไม่ดีพอต่อการนำมาใช้"
   ]
  },
  {
   "cell_type": "code",
   "execution_count": 44,
   "metadata": {},
   "outputs": [
    {
     "name": "stdout",
     "output_type": "stream",
     "text": [
      "Random Forest Accuracy: 34.00 (+/- 0.47)\n"
     ]
    }
   ],
   "source": [
    "scores1_rt = cross_val_score(rfc , X , y , cv = X.shape[0])\n",
    "print(\"Random Forest Accuracy: %0.2f (+/- %0.2f)\" % (scores1_rt.mean()*100, scores1_rt.std())) #find mean with std \n",
    "#Result จะบอกช่วง คะแนน(mean)แล้วดูค่าความแปรปวน + -"
   ]
  },
  {
   "cell_type": "code",
   "execution_count": 45,
   "metadata": {},
   "outputs": [],
   "source": [
    "# random n_estimator โดยการใช้ numpy linspace \n",
    "n_estimators = [int(x) for x in np.linspace(start = 5, stop = 60, num = 5)]\n",
    "# Number of features ที่จะถูก split ออกมา\n",
    "max_features = ['auto', 'sqrt']\n",
    "# ความลึกสูงสุด (ไม่ควรลึกเกินไปและน้อยเกินไป)\n",
    "max_depth = [2,4]\n",
    "# Minimum samples ที่ใช้ในการแตก node\n",
    "min_samples_split = [2, 5]\n",
    "# Minimum samples required at each leaf node\n",
    "min_samples_leaf = [1, 2]\n",
    "# เลือกตัวอย่างในการ training ของต้นไม้แต่ละต้น\n",
    "bootstrap = [True, False]\n",
    "\"\"\"\n",
    "    ใช้ข้อมูลจากด้านบนมาใส่ใน dick ในการจูนค่า parameter\n",
    "\"\"\"\n",
    "param_grid = {'n_estimators': n_estimators,\n",
    "               'max_features': max_features,\n",
    "               'max_depth': max_depth,\n",
    "               'min_samples_split': min_samples_split,\n",
    "               'min_samples_leaf': min_samples_leaf,\n",
    "               'bootstrap': bootstrap}\n"
   ]
  },
  {
   "cell_type": "code",
   "execution_count": 46,
   "metadata": {
    "scrolled": false
   },
   "outputs": [
    {
     "name": "stdout",
     "output_type": "stream",
     "text": [
      "Fitting 4 folds for each of 160 candidates, totalling 640 fits\n"
     ]
    },
    {
     "name": "stderr",
     "output_type": "stream",
     "text": [
      "[Parallel(n_jobs=4)]: Using backend LokyBackend with 4 concurrent workers.\n",
      "[Parallel(n_jobs=4)]: Done  34 tasks      | elapsed:    1.9s\n",
      "[Parallel(n_jobs=4)]: Done 276 tasks      | elapsed:    6.3s\n",
      "[Parallel(n_jobs=4)]: Done 640 out of 640 | elapsed:   13.0s finished\n",
      "[Parallel(n_jobs=4)]: Using backend LokyBackend with 4 concurrent workers.\n"
     ]
    },
    {
     "name": "stdout",
     "output_type": "stream",
     "text": [
      "Fitting 4 folds for each of 160 candidates, totalling 640 fits\n"
     ]
    },
    {
     "name": "stderr",
     "output_type": "stream",
     "text": [
      "[Parallel(n_jobs=4)]: Done  58 tasks      | elapsed:    1.3s\n",
      "[Parallel(n_jobs=4)]: Done 300 tasks      | elapsed:    6.6s\n",
      "[Parallel(n_jobs=4)]: Done 640 out of 640 | elapsed:   12.4s finished\n",
      "[Parallel(n_jobs=4)]: Using backend LokyBackend with 4 concurrent workers.\n"
     ]
    },
    {
     "name": "stdout",
     "output_type": "stream",
     "text": [
      "Fitting 4 folds for each of 160 candidates, totalling 640 fits\n"
     ]
    },
    {
     "name": "stderr",
     "output_type": "stream",
     "text": [
      "[Parallel(n_jobs=4)]: Done  92 tasks      | elapsed:    1.7s\n",
      "[Parallel(n_jobs=4)]: Done 576 tasks      | elapsed:   10.4s\n",
      "[Parallel(n_jobs=4)]: Done 640 out of 640 | elapsed:   11.5s finished\n",
      "[Parallel(n_jobs=4)]: Using backend LokyBackend with 4 concurrent workers.\n"
     ]
    },
    {
     "name": "stdout",
     "output_type": "stream",
     "text": [
      "Fitting 4 folds for each of 160 candidates, totalling 640 fits\n"
     ]
    },
    {
     "name": "stderr",
     "output_type": "stream",
     "text": [
      "[Parallel(n_jobs=4)]: Done  92 tasks      | elapsed:    1.5s\n",
      "[Parallel(n_jobs=4)]: Done 576 tasks      | elapsed:    9.3s\n",
      "[Parallel(n_jobs=4)]: Done 640 out of 640 | elapsed:   10.3s finished\n",
      "[Parallel(n_jobs=4)]: Using backend LokyBackend with 4 concurrent workers.\n"
     ]
    },
    {
     "name": "stdout",
     "output_type": "stream",
     "text": [
      "Fitting 4 folds for each of 160 candidates, totalling 640 fits\n"
     ]
    },
    {
     "name": "stderr",
     "output_type": "stream",
     "text": [
      "[Parallel(n_jobs=4)]: Done  92 tasks      | elapsed:    1.5s\n",
      "[Parallel(n_jobs=4)]: Done 576 tasks      | elapsed:    9.2s\n"
     ]
    },
    {
     "name": "stdout",
     "output_type": "stream",
     "text": [
      "RandomForest : \n",
      "Nested_CV :  36.00  %\n",
      "Best_parameter:  {'bootstrap': False, 'max_depth': 4, 'max_features': 'auto', 'min_samples_leaf': 1, 'min_samples_split': 2, 'n_estimators': 5}\n",
      "\n"
     ]
    },
    {
     "name": "stderr",
     "output_type": "stream",
     "text": [
      "[Parallel(n_jobs=4)]: Done 640 out of 640 | elapsed:   10.2s finished\n"
     ]
    }
   ],
   "source": [
    "inner_cv = KFold(n_splits=4, shuffle=True, random_state=2)\n",
    "outer_cv = KFold(n_splits=4, shuffle=True, random_state=2)\n",
    "# Optimizing Parameter\n",
    "clf = GridSearchCV(RandomForestClassifier(random_state=42), param_grid, verbose=2, cv=inner_cv,n_jobs=4) #Verbose =2 red box  \n",
    "#n_jobs คือใส้ทำ task ขนาดกันเป็นจำนวน4\n",
    "clf.fit(X, y)\n",
    "# Nested CV with parameter optimization\n",
    "nested_score = cross_val_score(clf, X, y, cv=outer_cv)\n",
    "print('RandomForest : ')\n",
    "print('Nested_CV :  '+'%.2f ' %(nested_score.mean()*100)+' %')\n",
    "print('Best_parameter:  '+str(clf.best_params_))\n",
    "print('')"
   ]
  },
  {
   "cell_type": "markdown",
   "metadata": {},
   "source": [
    "verbosity level ref:http://www2.cs.uregina.ca/~dbd/cs831/notes/ml/dtrees/c4.5/verbrules.html\n"
   ]
  },
  {
   "cell_type": "markdown",
   "metadata": {},
   "source": [
    "### Decision Tree"
   ]
  },
  {
   "cell_type": "code",
   "execution_count": 47,
   "metadata": {},
   "outputs": [],
   "source": [
    "dct = DecisionTreeClassifier()\n",
    "dct.fit(Xt_train,yt_train)\n",
    "dct_pred = dct.predict(Xt_test)"
   ]
  },
  {
   "cell_type": "code",
   "execution_count": 48,
   "metadata": {},
   "outputs": [
    {
     "name": "stdout",
     "output_type": "stream",
     "text": [
      "Decision Tree Accuracy:  0.24\n"
     ]
    }
   ],
   "source": [
    "print(\"Decision Tree Accuracy: \",dct.score(Xt_test,yt_test))"
   ]
  },
  {
   "cell_type": "code",
   "execution_count": 49,
   "metadata": {},
   "outputs": [
    {
     "name": "stdout",
     "output_type": "stream",
     "text": [
      "Mean Absolute Error: 0.08800000000000002\n",
      "Mean Squared Error: 0.08800000000000002\n",
      "Root Mean Squared Error: 0.29664793948382656\n"
     ]
    }
   ],
   "source": [
    "print('Mean Absolute Error:', metrics.mean_absolute_error(yt_test, dct_pred))\n",
    "print('Mean Squared Error:', metrics.mean_squared_error(yt_test, dct_pred))\n",
    "print('Root Mean Squared Error:', np.sqrt(metrics.mean_squared_error(yt_test, dct_pred)))"
   ]
  },
  {
   "cell_type": "code",
   "execution_count": 50,
   "metadata": {},
   "outputs": [
    {
     "name": "stdout",
     "output_type": "stream",
     "text": [
      "Random Forest Accuracy: 35.00 (+/- 0.48)\n"
     ]
    }
   ],
   "source": [
    "scores1_dt = cross_val_score(rfc , X , y , cv = X.shape[0])\n",
    "print(\"Random Forest Accuracy: %0.2f (+/- %0.2f)\" % (scores1_dt.mean()*100, scores1_dt.std()))"
   ]
  },
  {
   "cell_type": "code",
   "execution_count": 51,
   "metadata": {
    "scrolled": true
   },
   "outputs": [
    {
     "name": "stdout",
     "output_type": "stream",
     "text": [
      "Fitting 4 folds for each of 294 candidates, totalling 1176 fits\n"
     ]
    },
    {
     "name": "stderr",
     "output_type": "stream",
     "text": [
      "[Parallel(n_jobs=1)]: Using backend SequentialBackend with 1 concurrent workers.\n",
      "[Parallel(n_jobs=1)]: Done 1176 out of 1176 | elapsed:    6.7s finished\n",
      "[Parallel(n_jobs=1)]: Using backend SequentialBackend with 1 concurrent workers.\n"
     ]
    },
    {
     "name": "stdout",
     "output_type": "stream",
     "text": [
      "Fitting 4 folds for each of 294 candidates, totalling 1176 fits\n"
     ]
    },
    {
     "name": "stderr",
     "output_type": "stream",
     "text": [
      "[Parallel(n_jobs=1)]: Done 1176 out of 1176 | elapsed:    6.9s finished\n",
      "[Parallel(n_jobs=1)]: Using backend SequentialBackend with 1 concurrent workers.\n"
     ]
    },
    {
     "name": "stdout",
     "output_type": "stream",
     "text": [
      "Fitting 4 folds for each of 294 candidates, totalling 1176 fits\n"
     ]
    },
    {
     "name": "stderr",
     "output_type": "stream",
     "text": [
      "[Parallel(n_jobs=1)]: Done 1176 out of 1176 | elapsed:    6.5s finished\n",
      "[Parallel(n_jobs=1)]: Using backend SequentialBackend with 1 concurrent workers.\n"
     ]
    },
    {
     "name": "stdout",
     "output_type": "stream",
     "text": [
      "Fitting 4 folds for each of 294 candidates, totalling 1176 fits\n"
     ]
    },
    {
     "name": "stderr",
     "output_type": "stream",
     "text": [
      "[Parallel(n_jobs=1)]: Done 1176 out of 1176 | elapsed:    6.5s finished\n",
      "[Parallel(n_jobs=1)]: Using backend SequentialBackend with 1 concurrent workers.\n"
     ]
    },
    {
     "name": "stdout",
     "output_type": "stream",
     "text": [
      "Fitting 4 folds for each of 294 candidates, totalling 1176 fits\n",
      "DecisionTree : \n",
      "Nested_CV :  37.00  %\n",
      "Best_parameter:  {'max_leaf_nodes': 10, 'min_samples_split': 3}\n",
      "\n"
     ]
    },
    {
     "name": "stderr",
     "output_type": "stream",
     "text": [
      "[Parallel(n_jobs=1)]: Done 1176 out of 1176 | elapsed:    5.8s finished\n"
     ]
    }
   ],
   "source": [
    "params = {\n",
    "        'max_leaf_nodes': list(range(2, 100)),  #leaft node เป็นเลขตามช่วงที่กำหนดเอาไว้\n",
    "        'min_samples_split': [2, 3, 4]\n",
    "        }\n",
    "inner_cv = KFold(n_splits=4, shuffle=True, random_state=2) \n",
    "outer_cv = KFold(n_splits=4, shuffle=True, random_state=2)\n",
    "# Optimizing Parameter\n",
    "clf = GridSearchCV(DecisionTreeClassifier(random_state=42), params, verbose=1, cv=inner_cv) #verbose=1คือกล่องสีแดงด้านล่าง\n",
    "clf.fit(X, y)\n",
    "# Nested CV with parameter optimization\n",
    "nested_score = cross_val_score(clf, X, y, cv=outer_cv)\n",
    "print('DecisionTree : ')\n",
    "print('Nested_CV :  '+'%.2f ' %(nested_score.mean()*100)+' %')\n",
    "print('Best_parameter:  '+str(clf.best_params_))\n",
    "print('')"
   ]
  },
  {
   "cell_type": "markdown",
   "metadata": {},
   "source": [
    "### Tree Summary\n",
    "ในการใช้ Tree จะได้ค่าแม่นยำเพียง 36%และ37%ตามลำดับ โดยใช้ best parameter ตามที่ตั้งค่าเอาไว้"
   ]
  },
  {
   "cell_type": "markdown",
   "metadata": {},
   "source": [
    "## Logistic Regression\n",
    "Test with BinaryRelevance and ClassifierChain\n",
    "\n",
    "สำหรับ LabelPowerset การนำ LogisticRegression มาใช้ แบบ multi label จะดูไม่เหมาะสมต่อการทำ X ,y1,y2,...,yn \n",
    "\n",
    "จึงเลือกใช้แค่สองวิธีแล้วนำมาเปรัยบเทียบกัน"
   ]
  },
  {
   "cell_type": "code",
   "execution_count": 52,
   "metadata": {},
   "outputs": [],
   "source": [
    "from sklearn.linear_model import LogisticRegression"
   ]
  },
  {
   "cell_type": "code",
   "execution_count": 53,
   "metadata": {},
   "outputs": [
    {
     "name": "stdout",
     "output_type": "stream",
     "text": [
      "|------------------------- Accuracy Testing -------------------------|\n",
      "  Logistic Regression with BinaryRelevance:  0.43333333333333335\n",
      "  Precision Score :  1.0\n",
      "  Recall Score :  0.4\n",
      "|--------------------------------------------------------------------|\n",
      "  Logistic Regression with Classifier Chain:  0.43333333333333335\n",
      "  Precision Score :  1.0\n",
      "  Recall Score :  0.4\n"
     ]
    }
   ],
   "source": [
    "lr = LogisticRegression()\n",
    "bi_lr = BinaryRelevance(lr)\n",
    "bi_lr.fit(X_train,y_train)\n",
    "bi_pred = bi_lr.predict(X_test)\n",
    "cc_lr = ClassifierChain(lr)\n",
    "cc_lr.fit(X_train,y_train)\n",
    "predict=cc_lr.predict(X_test)\n",
    "print(\"|------------------------- Accuracy Testing -------------------------|\")\n",
    "print(\"  Logistic Regression with BinaryRelevance: \",accuracy_score(y_test,bi_pred))\n",
    "print(\"  Precision Score : \",precision_score(y_test, bi_pred,labels=[0,1],average='micro'))\n",
    "print(\"  Recall Score : \",recall_score(y_test, bi_pred,labels=[0,1],average='micro'))\n",
    "print(\"|--------------------------------------------------------------------|\")\n",
    "print(\"  Logistic Regression with Classifier Chain: \",accuracy_score(y_test,predict))\n",
    "print(\"  Precision Score : \",precision_score(y_test, predict,labels=[0,1],average='micro'))\n",
    "print(\"  Recall Score : \",recall_score(y_test, predict,labels=[0,1],average='micro'))"
   ]
  },
  {
   "cell_type": "code",
   "execution_count": 54,
   "metadata": {},
   "outputs": [],
   "source": [
    "lr_pram = { 'classifier': [LogisticRegression()],\n",
    "            'classifier__penalty':('l1', 'l2'),                  \n",
    "              'classifier__solver':('newton-cg', 'lbfgs', 'liblinear', 'sag', 'saga'),\n",
    "          'classifier__C':[0.01, 0.1, 1, 10]}"
   ]
  },
  {
   "cell_type": "code",
   "execution_count": 55,
   "metadata": {
    "scrolled": true
   },
   "outputs": [
    {
     "data": {
      "text/plain": [
       "'ไม่สามารถรันที่เดียวได้เลยแยกรันโดยจูนพารามีเตอร์ตามด้านล่าง'"
      ]
     },
     "execution_count": 55,
     "metadata": {},
     "output_type": "execute_result"
    }
   ],
   "source": [
    "inner_cv = KFold(n_splits=4, shuffle=True, random_state=2)\n",
    "outer_cv = KFold(n_splits=4, shuffle=True, random_state=2)\n",
    "# Optimizing Parameter\n",
    "clf = GridSearchCV(BinaryRelevance(), lr_pram, cv=inner_cv) \n",
    "clf.fit(X, y)\n",
    "# Nested CV with parameter optimization\n",
    "# nested_score = cross_val_score(clf, X, y, cv=outer_cv)\n",
    "# print('LogisticRegression : ')\n",
    "# print('Nested_CV :  '+'%.2f ' %(nested_score.mean()*100)+' %')\n",
    "# print('Best_parameter:  '+str(clf.best_params_))\n",
    "# print('')\n",
    "\"\"\"ไม่สามารถรันที่เดียวได้เลยแยกรันโดยจูนพารามีเตอร์ตามด้านล่าง\"\"\""
   ]
  },
  {
   "cell_type": "code",
   "execution_count": 56,
   "metadata": {},
   "outputs": [],
   "source": [
    "lr = LogisticRegression(solver='liblinear',penalty='l1')"
   ]
  },
  {
   "cell_type": "code",
   "execution_count": 57,
   "metadata": {},
   "outputs": [
    {
     "name": "stdout",
     "output_type": "stream",
     "text": [
      "LogisticRegression : \n",
      "Nested_CV :  36.00  %\n",
      "Best_parameter:  {'classifier': LogisticRegression(C=1, penalty='l1', solver='liblinear'), 'classifier__C': 1, 'classifier__penalty': 'l1', 'classifier__solver': 'liblinear'}\n",
      "\n"
     ]
    }
   ],
   "source": [
    "nested_score = cross_val_score(BinaryRelevance(lr), X, y, cv=outer_cv)\n",
    "print('LogisticRegression : ')\n",
    "print('Nested_CV :  '+'%.2f ' %(nested_score.mean()*100)+' %')\n",
    "print('Best_parameter:  '+str(clf.best_params_))\n",
    "print('')"
   ]
  },
  {
   "cell_type": "code",
   "execution_count": 58,
   "metadata": {},
   "outputs": [
    {
     "data": {
      "text/plain": [
       "GridSearchCV(cv=KFold(n_splits=4, random_state=2, shuffle=True),\n",
       "             estimator=ClassifierChain(require_dense=[True, True]),\n",
       "             param_grid={'classifier': [LogisticRegression(C=1, penalty='l1',\n",
       "                                                           solver='liblinear')],\n",
       "                         'classifier__C': [0.01, 0.1, 1, 10],\n",
       "                         'classifier__penalty': ('l1', 'l2'),\n",
       "                         'classifier__solver': ('newton-cg', 'lbfgs',\n",
       "                                                'liblinear', 'sag', 'saga')})"
      ]
     },
     "execution_count": 58,
     "metadata": {},
     "output_type": "execute_result"
    }
   ],
   "source": [
    "clf = GridSearchCV(ClassifierChain(), lr_pram, cv=inner_cv) \n",
    "clf.fit(X, y)"
   ]
  },
  {
   "cell_type": "code",
   "execution_count": 59,
   "metadata": {},
   "outputs": [
    {
     "name": "stdout",
     "output_type": "stream",
     "text": [
      "LogisticRegression : \n",
      "Nested_CV :  36.00  %\n",
      "Best_parameter:  {'classifier': LogisticRegression(C=1, penalty='l1', solver='liblinear'), 'classifier__C': 1, 'classifier__penalty': 'l1', 'classifier__solver': 'liblinear'}\n",
      "\n"
     ]
    }
   ],
   "source": [
    "nested_score = cross_val_score(ClassifierChain(lr), X, y, cv=outer_cv)\n",
    "print('LogisticRegression : ')\n",
    "print('Nested_CV :  '+'%.2f ' %(nested_score.mean()*100)+' %')\n",
    "print('Best_parameter:  '+str(clf.best_params_))\n",
    "print('')"
   ]
  },
  {
   "cell_type": "markdown",
   "metadata": {},
   "source": [
    "### Logistic Regression Summary\n",
    "ในการใช้ Logistic Regression หา label เราได้ best parameter มาคือ C=1, penalty='l1', solver='liblinear'\n",
    "ให้ค่าความแม่นยำ 36% โดยเป็นการหาแบบ BinaryRelevance&ClassifierChain ด้วยการทำ NestCv"
   ]
  },
  {
   "cell_type": "markdown",
   "metadata": {},
   "source": [
    "## Multilabel kNN"
   ]
  },
  {
   "cell_type": "code",
   "execution_count": 60,
   "metadata": {},
   "outputs": [],
   "source": [
    "from skmultilearn.adapt import MLkNN\n",
    "from scipy.sparse import csr_matrix, lil_matrix"
   ]
  },
  {
   "cell_type": "code",
   "execution_count": 61,
   "metadata": {},
   "outputs": [
    {
     "name": "stdout",
     "output_type": "stream",
     "text": [
      "MultiLabel kNN Accuracy:  0.43333333333333335\n"
     ]
    }
   ],
   "source": [
    "knn = MLkNN(k=15)\n",
    "y_trains = y_train\n",
    "x_train = lil_matrix(X_train).toarray()\n",
    "y_trains = lil_matrix(y_trains).toarray()\n",
    "x_test = lil_matrix(X_test).toarray()\n",
    "knn.fit(x_train, y_trains)\n",
    "pred = knn.predict(x_test)\n",
    "print(\"MultiLabel kNN Accuracy: \",accuracy_score(y_test,pred))"
   ]
  },
  {
   "cell_type": "code",
   "execution_count": 62,
   "metadata": {
    "scrolled": true
   },
   "outputs": [
    {
     "name": "stdout",
     "output_type": "stream",
     "text": [
      "Multiple kNN : \n",
      "Nested_CV :  35.00  %\n",
      "Best_parameter:  {'k': 7, 's': 0.7}\n",
      "\n"
     ]
    }
   ],
   "source": [
    "X_knn = lil_matrix(X).toarray()\n",
    "y_knn = lil_matrix(y).toarray()\n",
    "knn_pram = {'k': range(1,15), 's': [0.5, 0.7, 1.0]}\n",
    "inner_cv = KFold(n_splits=4, shuffle=True, random_state=2)\n",
    "outer_cv = KFold(n_splits=4, shuffle=True, random_state=2)\n",
    "# Optimizing Parameter\n",
    "clf = GridSearchCV(MLkNN(), knn_pram, cv=inner_cv) \n",
    "clf.fit(X_knn, y_knn)\n",
    "# Nested CV with parameter optimization\n",
    "nested_score = cross_val_score(clf, X_knn, y_knn, cv=outer_cv)\n",
    "print('Multiple kNN : ')\n",
    "print('Nested_CV :  '+'%.2f ' %(nested_score.mean()*100)+' %')\n",
    "print('Best_parameter:  '+str(clf.best_params_))\n",
    "print('')"
   ]
  },
  {
   "cell_type": "markdown",
   "metadata": {},
   "source": [
    "### MLkNN Summary\n",
    "จากการทำ GridSearchCV ได้ parameter ที่ดีคือใช้ k=7 และ s =0.7\n",
    "โดยให้ความแม่นยำอยู่ที่ 35%"
   ]
  },
  {
   "cell_type": "markdown",
   "metadata": {},
   "source": [
    "# ใช้ข้อมูลผู้แต่งต่อหลังข้อมูล\n",
    "ในการจะใช้ข้อมูลชื่อของผู้แต่งจะอยู่ในรูป FirstName-Surname เพื่อนำไปหาในเว็บแต่ข้อมูลที่มีนั้นอยู่ในรูปแบบ FirstName Surname\n",
    "\n",
    "ซึ่งพอข้อมูลแบบนี้จะทำให้ มีข้อมูลมากขึ้น เราสามารถเช็คโดยเลือกตัดคำได้ โดยใช้ min_df = 3 และ min_df = 5\n"
   ]
  },
  {
   "cell_type": "code",
   "execution_count": 63,
   "metadata": {},
   "outputs": [],
   "source": [
    "author = df['Author']\n",
    "for _split_ in range(0,100):\n",
    "    \"split firstname and surname\"\n",
    "    author[_split_] = author[_split_].split(\" \")\n"
   ]
  },
  {
   "cell_type": "code",
   "execution_count": 64,
   "metadata": {},
   "outputs": [],
   "source": [
    "for i in range(0,100):\n",
    "    \"join by using -\"\n",
    "    author[i] = ('-').join(author[i]) #join ข้อมูลหลังจาก splitชื่อกับนามสกุลออกให้เป็น Fname-Sname"
   ]
  },
  {
   "cell_type": "markdown",
   "metadata": {},
   "source": [
    "ที่เราต้องsplitและjoinกันใหม่โดยใช้ - เนื่องจากข้อมูลเวลาเราหา Author detail link web จะอยู่ในรูปแบบ Fname-Sname แต่เวลาเราดึงข้อมูลมาจากเป็นเว้นวรรค"
   ]
  },
  {
   "cell_type": "code",
   "execution_count": 65,
   "metadata": {},
   "outputs": [
    {
     "data": {
      "text/plain": [
       "[{'Details': '\\n        In 1879, Albert Einstein was born in Ulm, Germany. He completed his Ph.D. at the University of Zurich by 1909. His 1905 paper explaining the photoelectric effect, the basis of electronics, earned him the Nobel Prize in 1921. His first paper on Special Relativity Theory, also published in 1905, changed the world. After the rise of the Nazi party, Einstein made Princeton his permanent home, becoming a U.S. citizen in 1940. Einstein, a pacifist during World War I, stayed a firm proponent of social justice and responsibility. He chaired the Emergency Committee of Atomic Scientists, which organized to alert the public to the dangers of atomic warfare.At a symposium, he advised: \"In their struggle for the ethical good, teachers of religion must have the stature to give up the doctrine of a personal God, that is, give up that source of fear and hope which in the past placed such vast power in the hands of priests. In their labors they will have to avail themselves of those forces which are capable of cultivating the Good, the True, and the Beautiful in humanity itself. This is, to be sure a more difficult but an incomparably more worthy task . . . \" (\"Science, Philosophy and Religion, A Symposium,\" published by the Conference on Science, Philosophy and Religion in their Relation to the Democratic Way of Life, Inc., New York, 1941). In a letter to philosopher Eric Gutkind, dated Jan. 3, 1954, Einstein stated: \"The word god is for me nothing more than the expression and product of human weaknesses, the Bible a collection of honorable, but still primitive legends which are nevertheless pretty childish. No interpretation no matter how subtle can (for me) change this,\" (The Guardian, \"Childish superstition: Einstein\\'s letter makes view of religion relatively clear,\" by James Randerson, May 13, 2008). D. 1955.While best known for his mass–energy equivalence formula E = mc2 (which has been dubbed \"the world\\'s most famous equation\"), he received the 1921 Nobel Prize in Physics \"for his services to theoretical physics, and especially for his discovery of the law of the photoelectric effect\". The latter was pivotal in establishing quantum theory.Einstein thought that Newtonion mechanics was no longer enough to reconcile the laws of classical mechanics with the laws of the electromagnetic field. This led to the development of his special theory of relativity. He realized, however, that the principle of relativity could also be extended to gravitational fields, and with his subsequent theory of gravitation in 1916, he published a paper on the general theory of relativity. He continued to deal with problems of statistical mechanics and quantum theory, which led to his explanations of particle theory and the motion of molecules. He also investigated the thermal properties of light which laid the foundation of the photon theory of light.He was visiting the United States when Adolf Hitler came to power in 1933 and did not go back to Germany. On the eve of World War II, he endorsed a letter to President Franklin D. Roosevelt alerting him to the potential development of \"extremely powerful bombs of a new type\" and recommending that the U.S. begin similar research. This eventually led to what would become the Manhattan Project. Einstein supported defending the Allied forces, but largely denounced the idea of using the newly discovered nuclear fission as a weapon. Later, with Bertrand Russell, Einstein signed the Russell–Einstein Manifesto, which highlighted the danger of nuclear weapons. Einstein was affiliated with the Institute for Advanced Study in Princeton, New Jersey, until his death in 1955.His great intellectual achievements and originality have made the word \"Einstein\" synonymous with genius.More: http://en.wikipedia.org/wiki/Albert_E...http://www.nobelprize.org/nobel_prize...    \\n    '},\n",
       " {'Details': '\\n'}]"
      ]
     },
     "execution_count": 65,
     "metadata": {},
     "output_type": "execute_result"
    }
   ],
   "source": [
    "test_df = pd.DataFrame(author)\n",
    "df['Author'] = test_df\n",
    "detail = []\n",
    "for i in df['Author']: \n",
    "    r = requests.get(\"https://quotes.toscrape.com/author/%s/\" %i)\n",
    "    soup = bs4.BeautifulSoup(r.content)\n",
    "    quotes = soup.find_all('div', class_='author-details')\n",
    "    for find_detail in quotes:\n",
    "        auothor_datail = {}\n",
    "        auothor_datail[\"Details\"] = find_detail.find(class_='author-description').text \n",
    "        detail.append(auothor_datail)\n",
    "detail[0:2] #ข้อมูลจะติด \\n มา"
   ]
  },
  {
   "cell_type": "code",
   "execution_count": 66,
   "metadata": {},
   "outputs": [],
   "source": [
    "details = pd.DataFrame(detail)\n",
    "for i in details['Details']:\n",
    "    \"ใช้ loop ทำการ strip ข้อมูลที่เป็น\\nอย่างเดียวในแต่ละrow\"\n",
    "    details['Details'].replace(i,i.rstrip(),inplace=True)\n",
    "df['Details'] = details"
   ]
  },
  {
   "cell_type": "code",
   "execution_count": 67,
   "metadata": {},
   "outputs": [
    {
     "data": {
      "text/plain": [
       "0     “The world as we have created it is a process ...\n",
       "1     “It is our choices, Harry, that show what we t...\n",
       "2     “There are only two ways to live your life. On...\n",
       "3     “The person, be it gentleman or lady, who has ...\n",
       "4     “Imperfection is beauty, madness is genius and...\n",
       "                            ...                        \n",
       "95    “You never really understand a person until yo...\n",
       "96    “You have to write the book that wants to be w...\n",
       "97    “Never tell the truth to people who are not wo...\n",
       "98          “A person's a person, no matter how small.”\n",
       "99    “... a mind needs books as a sword needs a whe...\n",
       "Length: 100, dtype: object"
      ]
     },
     "execution_count": 67,
     "metadata": {},
     "output_type": "execute_result"
    }
   ],
   "source": [
    "df['Quote']+df['Details']"
   ]
  },
  {
   "cell_type": "markdown",
   "metadata": {},
   "source": [
    "## Save Quote+Author Details data"
   ]
  },
  {
   "cell_type": "code",
   "execution_count": 68,
   "metadata": {},
   "outputs": [],
   "source": [
    "#np.savetxt('datastore/AllQuoteAndDetails.txt', (df['Quote']+df['Details']).values, fmt='%s',encoding='utf-8')"
   ]
  },
  {
   "cell_type": "markdown",
   "metadata": {},
   "source": [
    "## Load Quote and AuthorDetail Data"
   ]
  },
  {
   "cell_type": "code",
   "execution_count": 69,
   "metadata": {},
   "outputs": [],
   "source": [
    "mix_data = [line.rstrip() for line in open('datastore/AllQuoteAndDetails.txt',\"r\",encoding=\"utf-8\")]\n",
    "#use data from text files with strip\\n "
   ]
  },
  {
   "cell_type": "code",
   "execution_count": 70,
   "metadata": {},
   "outputs": [],
   "source": [
    "def lemma_tokenizer(text):\n",
    "    standard_tokenizer = CountVectorizer().build_tokenizer()\n",
    "    tokens = standard_tokenizer(text)\n",
    "    lemmatizer = nltk.stem.WordNetLemmatizer()\n",
    "    lemma_tokens = []\n",
    "    for token in tokens:\n",
    "        lemma_tokens.append( lemmatizer.lemmatize(token))\n",
    "    return lemma_tokens"
   ]
  },
  {
   "cell_type": "markdown",
   "metadata": {},
   "source": [
    "## Weight\n",
    "สรุปของ Weight จะไม่ค่อยเยอะมากแต่เนื้อหาการเปรียบเทียบจะไปอยู่ในสรุปตอนจบ"
   ]
  },
  {
   "cell_type": "markdown",
   "metadata": {},
   "source": [
    "### More Word\n",
    "min_df = 3"
   ]
  },
  {
   "cell_type": "code",
   "execution_count": 71,
   "metadata": {},
   "outputs": [
    {
     "data": {
      "text/plain": [
       "(100, 1027)"
      ]
     },
     "execution_count": 71,
     "metadata": {},
     "output_type": "execute_result"
    }
   ],
   "source": [
    "vectorizer = CountVectorizer(stop_words=\"english\",min_df = 3, tokenizer= lemma_tokenizer)\n",
    "X = vectorizer.fit_transform(mix_data)\n",
    "X.shape"
   ]
  },
  {
   "cell_type": "markdown",
   "metadata": {},
   "source": [
    "## NaiveBaynes Comparison"
   ]
  },
  {
   "cell_type": "code",
   "execution_count": 72,
   "metadata": {},
   "outputs": [],
   "source": [
    "X_train,X_test,y_train,y_test = train_test_split(X,y,test_size=0.3,random_state=420)"
   ]
  },
  {
   "cell_type": "markdown",
   "metadata": {},
   "source": [
    "### Naive Baynes with BinaryRelevance"
   ]
  },
  {
   "cell_type": "code",
   "execution_count": 73,
   "metadata": {
    "scrolled": true
   },
   "outputs": [
    {
     "name": "stdout",
     "output_type": "stream",
     "text": [
      "|-------------------- Accuracy Testing --------------------|\n",
      " Multinomia Naive Baynes accuracy:  0.16666666666666666\n",
      " Precision Score Multinomial:  0.1\n",
      " Recall Score Multinomial:  0.2\n",
      "|----------------------------------------------------------|\n",
      " Bernoulib Naive Baynes accuracy:  0.16666666666666666\n",
      " Precision Score Bernoulib:  0.0\n",
      " Recall Score Bernoulib:  0.0\n"
     ]
    }
   ],
   "source": [
    "bnr_rlv_multi = BinaryRelevance(MultinomialNB())\n",
    "bnr_rlv_bi = BinaryRelevance(BernoulliNB(alpha=0.7))\n",
    "bnr_rlv_multi.fit(X_train,y_train)\n",
    "multi_pred = bnr_rlv_multi.predict(X_test)\n",
    "bnr_rlv_bi.fit(X_train,y_train)\n",
    "bi_pred = bnr_rlv_bi.predict(X_test)\n",
    "\"\"\"\n",
    "    กำหนด labels ในตัว precision&recall เป็น 0ม1 ตาม binary ของคำตอบที่เราแบ่งmulti label ให้มี 0,1\n",
    "\"\"\"\n",
    "print(\"|-------------------- Accuracy Testing --------------------|\")\n",
    "print(\" Multinomia Naive Baynes accuracy: \",accuracy_score(y_test, multi_pred))\n",
    "print(\" Precision Score Multinomial: \",precision_score(y_test,multi_pred,labels=[0,1],average='micro')) \n",
    "print(\" Recall Score Multinomial: \",recall_score(y_test, multi_pred,labels=[0,1],average='micro'))\n",
    "print(\"|----------------------------------------------------------|\")\n",
    "print(\" Bernoulib Naive Baynes accuracy: \",accuracy_score(y_test, bi_pred))\n",
    "print(\" Precision Score Bernoulib: \",precision_score(y_test,bi_pred,labels=[0,1],average='micro'))\n",
    "print(\" Recall Score Bernoulib: \",recall_score(y_test,bi_pred,labels=[0,1],average='micro'))"
   ]
  },
  {
   "cell_type": "markdown",
   "metadata": {},
   "source": [
    "เราจะเห็นว่า Multinomial สามารถทายผล  class และ ความถูกต้องโดยรวมของข้อมูลได้ แม่นยำกว่า แม้ accuracy ของโมเดลจะเท่ากันก็ตาม"
   ]
  },
  {
   "cell_type": "markdown",
   "metadata": {},
   "source": [
    "### Testing with Leave one out"
   ]
  },
  {
   "cell_type": "code",
   "execution_count": 74,
   "metadata": {},
   "outputs": [],
   "source": [
    "scores1 = cross_val_score(BinaryRelevance(MultinomialNB()) , X , y , cv = X.shape[0])\n",
    "scores2 = cross_val_score(BinaryRelevance(BernoulliNB(alpha=0.7)) , X , y , cv = X.shape[0])"
   ]
  },
  {
   "cell_type": "code",
   "execution_count": 75,
   "metadata": {},
   "outputs": [
    {
     "name": "stdout",
     "output_type": "stream",
     "text": [
      "Multinomial Accuracy: 10.00 (+/- 0.30)\n",
      "Bernoulib Accuracy: 20.00 (+/- 0.40)\n"
     ]
    }
   ],
   "source": [
    "print(\"Multinomial Accuracy: %0.2f (+/- %0.2f)\" % (scores1.mean()*100, scores1.std()))\n",
    "print(\"Bernoulib Accuracy: %0.2f (+/- %0.2f)\" % (scores2.mean()*100, scores2.std()))"
   ]
  },
  {
   "cell_type": "markdown",
   "metadata": {},
   "source": [
    "### Naive Bayne with ClassifierChain"
   ]
  },
  {
   "cell_type": "code",
   "execution_count": 76,
   "metadata": {
    "scrolled": true
   },
   "outputs": [
    {
     "name": "stdout",
     "output_type": "stream",
     "text": [
      "|-------------------- Accuracy Testing --------------------|\n",
      " Multinomia Naive Baynes accuracy:  0.16666666666666666\n",
      " Precision Score Multinomail:  0.1\n",
      " Recall Score Multinomial:  0.2\n",
      "|----------------------------------------------------------|\n",
      " Bernoulib Naive Baynes accuracy:  0.16666666666666666\n",
      " Precision Score Bernoulib:  0.0\n",
      " Recall Score Bernoulib:  0.0\n"
     ]
    }
   ],
   "source": [
    "chain_multi = ClassifierChain(MultinomialNB())\n",
    "chain_bi = ClassifierChain(BernoulliNB(alpha=0.7))\n",
    "chain_multi.fit(X_train,y_train)\n",
    "chain_multi_pred = chain_multi.predict(X_test)\n",
    "chain_bi.fit(X_train,y_train)\n",
    "chain_bi_pred = chain_bi.predict(X_test)\n",
    "print(\"|-------------------- Accuracy Testing --------------------|\")\n",
    "print(\" Multinomia Naive Baynes accuracy: \",accuracy_score(y_test, chain_multi_pred))\n",
    "print(\" Precision Score Multinomail: \",precision_score(y_test, chain_multi_pred,labels=[0,1],average='micro'))\n",
    "print(\" Recall Score Multinomial: \",recall_score(y_test, chain_multi_pred,labels=[0,1],average='micro'))\n",
    "print(\"|----------------------------------------------------------|\")\n",
    "print(\" Bernoulib Naive Baynes accuracy: \",accuracy_score(y_test, chain_bi_pred))\n",
    "print(\" Precision Score Bernoulib: \",precision_score(y_test, chain_bi_pred,labels=[0,1],average='micro'))\n",
    "print(\" Recall Score Bernoulib: \",recall_score(y_test,chain_bi_pred,labels=[0,1],average='micro'))"
   ]
  },
  {
   "cell_type": "markdown",
   "metadata": {},
   "source": [
    "จาก ClassifierChain เราะเห็นได้ว่าแม้ความแม่นยำจะต่างไปไม่มาก แต่ค่า Recall&Precision จะต่างกันอยู่ถึง 20%"
   ]
  },
  {
   "cell_type": "markdown",
   "metadata": {},
   "source": [
    "### Testing with Leave one out"
   ]
  },
  {
   "cell_type": "code",
   "execution_count": 77,
   "metadata": {},
   "outputs": [
    {
     "name": "stdout",
     "output_type": "stream",
     "text": [
      "Multinomial Accuracy: 10.00 (+/- 0.30)\n",
      "Bernoulib Accuracy: 20.00 (+/- 0.40)\n"
     ]
    }
   ],
   "source": [
    "scores1 = cross_val_score(ClassifierChain(MultinomialNB()) , X , y , cv = X.shape[0])\n",
    "scores2 = cross_val_score(ClassifierChain(BernoulliNB(alpha=0.7)) , X , y , cv = X.shape[0])\n",
    "print(\"Multinomial Accuracy: %0.2f (+/- %0.2f)\" % (scores1.mean()*100, scores1.std()))\n",
    "print(\"Bernoulib Accuracy: %0.2f (+/- %0.2f)\" % (scores2.mean()*100, scores2.std()))"
   ]
  },
  {
   "cell_type": "markdown",
   "metadata": {},
   "source": [
    "### Naive Baynes with LabelPowerset"
   ]
  },
  {
   "cell_type": "code",
   "execution_count": 78,
   "metadata": {
    "scrolled": false
   },
   "outputs": [
    {
     "name": "stdout",
     "output_type": "stream",
     "text": [
      "|-------------------- Accuracy Testing --------------------|\n",
      " Multinomia Naive Baynes accuracy:  0.8333333333333334\n",
      " Precision Score :  1.0\n",
      " Recall Score :  0.8\n",
      "|----------------------------------------------------------|\n",
      " Bernoulib Naive Baynes accuracy:  0.5333333333333333\n",
      " Precision Score :  0.7\n",
      " Recall Score :  0.45161290322580644\n"
     ]
    }
   ],
   "source": [
    "multi_power = LabelPowerset(MultinomialNB())\n",
    "bi_power = LabelPowerset(BernoulliNB(alpha=0.7))\n",
    "multi_power.fit(X_test,y_test)\n",
    "multi_power_pred = multi_power.predict(X_test)\n",
    "bi_power.fit(X_test,y_test)\n",
    "bi_power_pred = bi_power.predict(X_test)\n",
    "print(\"|-------------------- Accuracy Testing --------------------|\")\n",
    "print(\" Multinomia Naive Baynes accuracy: \",accuracy_score(y_test, multi_power_pred))\n",
    "print(\" Precision Score : \",precision_score(y_test, multi_power_pred,labels=[0,1],average='micro'))\n",
    "print(\" Recall Score : \",recall_score(y_test, multi_power_pred,labels=[0,1],average='micro'))\n",
    "print(\"|----------------------------------------------------------|\")\n",
    "print(\" Bernoulib Naive Baynes accuracy: \",accuracy_score(y_test, bi_power_pred))\n",
    "print(\" Precision Score : \",precision_score(y_test, bi_power_pred,average='micro'))\n",
    "print(\" Recall Score : \",recall_score(y_test, bi_power_pred,average='micro'))"
   ]
  },
  {
   "cell_type": "markdown",
   "metadata": {},
   "source": [
    "### Testing with Leave one out"
   ]
  },
  {
   "cell_type": "code",
   "execution_count": 79,
   "metadata": {},
   "outputs": [
    {
     "name": "stdout",
     "output_type": "stream",
     "text": [
      "Multinomial Accuracy: 24.00 (+/- 0.43)\n",
      "Bernoulib Accuracy: 18.00 (+/- 0.38)\n"
     ]
    }
   ],
   "source": [
    "scores1 = cross_val_score(multi_power , X , y , cv = X.shape[0])\n",
    "scores2 = cross_val_score( bi_power, X , y , cv = X.shape[0])\n",
    "print(\"Multinomial Accuracy: %0.2f (+/- %0.2f)\" % (scores1.mean()*100, scores1.std()))\n",
    "print(\"Bernoulib Accuracy: %0.2f (+/- %0.2f)\" % (scores2.mean()*100, scores2.std()))"
   ]
  },
  {
   "cell_type": "markdown",
   "metadata": {},
   "source": [
    "Label Powerset traines on all unique label combinations found in the training data.\n",
    "ดังนั้น การทำการคำนวณหรือ test ที่มีการซับซ้อนหรือเยอะเช่นการเปรียบเทียบที่เยอะเกินไปอาจทำให้ความแม่นยำลดลง"
   ]
  },
  {
   "cell_type": "code",
   "execution_count": 80,
   "metadata": {
    "scrolled": false
   },
   "outputs": [
    {
     "data": {
      "image/png": "[encoded data removed]",
      "text/plain": [
       "<Figure size 432x288 with 1 Axes>"
      ]
     },
     "metadata": {
      "needs_background": "light"
     },
     "output_type": "display_data"
    }
   ],
   "source": [
    "multi_acc = (accuracy_score(y_test, multi_pred),accuracy_score(y_test, chain_multi_pred),accuracy_score(y_test, multi_power_pred))\n",
    "bi_acc = (accuracy_score(y_test, bi_pred),accuracy_score(y_test, chain_bi_pred),accuracy_score(y_test, bi_power_pred))\n",
    "width = 0.4\n",
    "plt.bar(np.arange(3),multi_acc,width,label =\"MultinomialNB\")\n",
    "plt.bar(np.arange(3)+width,bi_acc,width,label =\"BernoulliNB\")\n",
    "plt.ylabel('Accuracy')\n",
    "plt.title('Naive baynes Accuracy')\n",
    "\n",
    "plt.xticks(np.arange(3) + width / 2, ('BinaryRelevance', 'ChainClassifier', 'LabelPowerset'))\n",
    "plt.legend(loc='best')\n",
    "plt.show()"
   ]
  },
  {
   "cell_type": "markdown",
   "metadata": {},
   "source": [
    "กราฟแสดงการเปรียบเทียบความแม่นยำในการทำ train test split โดยมีโอกาสเป็น Lucky Split"
   ]
  },
  {
   "cell_type": "code",
   "execution_count": 81,
   "metadata": {},
   "outputs": [],
   "source": [
    "models_lst = [BinaryRelevance(),BinaryRelevance(),ClassifierChain(),ClassifierChain(),LabelPowerset(),LabelPowerset()]\n",
    "parameter = [{\n",
    "        'classifier': [MultinomialNB()],\n",
    "        'classifier__alpha': [0.5,0.7, 1.0,10.0]\n",
    "    },\n",
    "    {\n",
    "        'classifier':[BernoulliNB()],\n",
    "        'classifier_alpha': [0.5,0.7,1.0,10.0]\n",
    "    }\n",
    "]\n",
    "\n",
    "model_name = ['BinaryRelevanceMultinomial','BinaryRelevanceBernoulli','ClassifierChainMultinomial'\\\n",
    "             ,'ClassifierChainBernoulli','LabelPowersetMultinobial','LabelPowersetBernoulli']"
   ]
  },
  {
   "cell_type": "code",
   "execution_count": 82,
   "metadata": {
    "scrolled": true
   },
   "outputs": [
    {
     "name": "stdout",
     "output_type": "stream",
     "text": [
      "BinaryRelevanceMultinomial:  \n",
      "Nested_CV :  22.00  %\n",
      "Best_parameter:  {'classifier': MultinomialNB(alpha=10.0), 'classifier__alpha': 10.0}\n",
      "\n",
      "BinaryRelevanceBernoulli:  \n",
      "Nested_CV :  22.00  %\n",
      "Best_parameter:  {'classifier': MultinomialNB(alpha=10.0), 'classifier__alpha': 10.0}\n",
      "\n",
      "ClassifierChainMultinomial:  \n",
      "Nested_CV :  22.00  %\n",
      "Best_parameter:  {'classifier': MultinomialNB(alpha=10.0), 'classifier__alpha': 10.0}\n",
      "\n",
      "ClassifierChainBernoulli:  \n",
      "Nested_CV :  22.00  %\n",
      "Best_parameter:  {'classifier': MultinomialNB(alpha=10.0), 'classifier__alpha': 10.0}\n",
      "\n",
      "LabelPowersetMultinobial:  \n",
      "Nested_CV :  24.00  %\n",
      "Best_parameter:  {'classifier': MultinomialNB(alpha=10.0), 'classifier__alpha': 10.0}\n",
      "\n",
      "LabelPowersetBernoulli:  \n",
      "Nested_CV :  24.00  %\n",
      "Best_parameter:  {'classifier': MultinomialNB(alpha=10.0), 'classifier__alpha': 10.0}\n",
      "\n"
     ]
    }
   ],
   "source": [
    "count = 0\n",
    "for i in models_lst:\n",
    "    # Choose cross-validation techniques for the inner and outer loops,\n",
    "    # independently of the dataset.\n",
    "    inner_cv = KFold(n_splits=4, shuffle=True, random_state=2)\n",
    "    outer_cv = KFold(n_splits=4, shuffle=True, random_state=2)\n",
    "    # Optimizing Parameter\n",
    "    clf = GridSearchCV(i, parameter[0:1], cv=inner_cv)\n",
    "    clf.fit(X, y)\n",
    "\n",
    "    # Nested CV with parameter optimization\n",
    "    nested_score = cross_val_score(clf, X, y, cv=outer_cv)\n",
    "    print(model_name[count]+\":  \")\n",
    "    print('Nested_CV :  '+'%.2f ' %(nested_score.mean()*100)+' %')\n",
    "    print('Best_parameter:  '+str(clf.best_params_))\n",
    "    print('')\n",
    "    count += 1"
   ]
  },
  {
   "cell_type": "code",
   "execution_count": 83,
   "metadata": {
    "scrolled": false
   },
   "outputs": [
    {
     "data": {
      "image/png": "[encoded data removed]",
      "text/plain": [
       "<Figure size 1296x720 with 1 Axes>"
      ]
     },
     "metadata": {
      "needs_background": "light"
     },
     "output_type": "display_data"
    }
   ],
   "source": [
    "fig, ax = plt.subplots(figsize = (18,10))\n",
    "tts = (accuracy_score(y_test, multi_pred),accuracy_score(y_test, bi_pred),accuracy_score(y_test, chain_multi_pred),\\\n",
    "       accuracy_score(y_test, chain_bi_pred),accuracy_score(y_test, multi_power_pred),accuracy_score(y_test, bi_power_pred))\n",
    "loo = (0.35,0.33,0.33,0.33,0.33,0.33)\n",
    "nested = (0.22,0.22,0.22,0.22,0.24,0.24)\n",
    "width = 0.2\n",
    "plt.bar(np.arange(6),tts,width,label =\"Train Test Split\")\n",
    "plt.bar(np.arange(6)+(width),loo,width,label =\"Leave one out\")\n",
    "plt.bar(np.arange(6)+(2*width),nested,width,label =\"Nested CV\")\n",
    "plt.ylabel('Accuracy')\n",
    "plt.title('Naive baynes Accuracy')\n",
    "plt.xlabel('Evaluation')\n",
    "plt.xticks(np.arange(6) + (1.5*width) , ('BinaryRelevanceMultinomial','BinaryRelevanceBernoullib', \\\n",
    "                        'ChainClassifierMultinomial','ChainClassifierBernoullib', 'LabelPowersetMultinomial','LabelPowersetBernoullib'))\n",
    "plt.legend(loc='best')\n",
    "plt.grid()\n",
    "plt.show()\n"
   ]
  },
  {
   "cell_type": "markdown",
   "metadata": {},
   "source": [
    "### Naive Baynes Summary with Author Detail\n",
    "ในการทดสอบ Naive Baynes เราได้ทำการทดสอบด้วย Naive Baynes สองแบบคือ Multinomial&Bernoulli\n",
    "   \n",
    "\n",
    "ถ้าหากเรา Tune parameter with gridsearch CV แล้วนำมาหา nested cv  เราจะได้ความแม่นยำเป็น 22-24% ซึ่งน้อยลงจากการทำโดยไม่มีข้อมูลผู้แต่ง\n",
    "แต่หากเราสังเกตในส่วนของ train test split จะเห็นได้ว่าพอมีข้อมูลที่เยอะขึ้นการทำแบบ powewlable set สูงขึ้น อาจเป็นเพราะ lucky split เหมือนเคยแต่ความเหมาะสมในการดูข้อมูลทางความน่าจะเป็นของสูตรจะเห็นได้ว่ามันมีความต่างกันอยู่มากตามข้อมูล"
   ]
  },
  {
   "cell_type": "markdown",
   "metadata": {},
   "source": [
    "## Tree\n",
    "\n",
    "### RandomForest"
   ]
  },
  {
   "cell_type": "code",
   "execution_count": 84,
   "metadata": {},
   "outputs": [],
   "source": [
    "# random n_estimator โดยการใช้ numpy linspace \n",
    "n_estimators = [int(x) for x in np.linspace(start = 5, stop = 60, num = 5)]\n",
    "# Number of features ที่จะถูก split ออกมา\n",
    "max_features = ['auto', 'sqrt']\n",
    "# ความลึกสูงสุด (ไม่ควรลึกเกินไปและน้อยเกินไป)\n",
    "max_depth = [2,4]\n",
    "# Minimum samples ที่ใช้ในการแตก node\n",
    "min_samples_split = [2, 5]\n",
    "# Minimum samples required at each leaf node\n",
    "min_samples_leaf = [1, 2]\n",
    "# เลือกตัวอย่างในการ training ของต้นไม้แต่ละต้น\n",
    "bootstrap = [True, False]\n",
    "\"\"\"\n",
    "    ใช้ข้อมูลจากด้านบนมาใส่ใน dick ในการจูนค่า parameter\n",
    "\"\"\"\n",
    "param_grid = {'n_estimators': n_estimators,\n",
    "               'max_features': max_features,\n",
    "               'max_depth': max_depth,\n",
    "               'min_samples_split': min_samples_split,\n",
    "               'min_samples_leaf': min_samples_leaf,\n",
    "               'bootstrap': bootstrap}\n"
   ]
  },
  {
   "cell_type": "code",
   "execution_count": 85,
   "metadata": {
    "scrolled": false
   },
   "outputs": [
    {
     "name": "stdout",
     "output_type": "stream",
     "text": [
      "Fitting 4 folds for each of 160 candidates, totalling 640 fits\n"
     ]
    },
    {
     "name": "stderr",
     "output_type": "stream",
     "text": [
      "[Parallel(n_jobs=4)]: Using backend LokyBackend with 4 concurrent workers.\n",
      "[Parallel(n_jobs=4)]: Done  58 tasks      | elapsed:    1.2s\n",
      "[Parallel(n_jobs=4)]: Done 300 tasks      | elapsed:    5.8s\n",
      "[Parallel(n_jobs=4)]: Done 640 out of 640 | elapsed:   12.4s finished\n",
      "[Parallel(n_jobs=4)]: Using backend LokyBackend with 4 concurrent workers.\n"
     ]
    },
    {
     "name": "stdout",
     "output_type": "stream",
     "text": [
      "Fitting 4 folds for each of 160 candidates, totalling 640 fits\n"
     ]
    },
    {
     "name": "stderr",
     "output_type": "stream",
     "text": [
      "[Parallel(n_jobs=4)]: Done  58 tasks      | elapsed:    1.2s\n",
      "[Parallel(n_jobs=4)]: Done 300 tasks      | elapsed:    6.4s\n",
      "[Parallel(n_jobs=4)]: Done 640 out of 640 | elapsed:   12.5s finished\n",
      "[Parallel(n_jobs=4)]: Using backend LokyBackend with 4 concurrent workers.\n"
     ]
    },
    {
     "name": "stdout",
     "output_type": "stream",
     "text": [
      "Fitting 4 folds for each of 160 candidates, totalling 640 fits\n"
     ]
    },
    {
     "name": "stderr",
     "output_type": "stream",
     "text": [
      "[Parallel(n_jobs=4)]: Done  92 tasks      | elapsed:    2.0s\n",
      "[Parallel(n_jobs=4)]: Done 576 tasks      | elapsed:   11.4s\n",
      "[Parallel(n_jobs=4)]: Done 640 out of 640 | elapsed:   12.7s finished\n",
      "[Parallel(n_jobs=4)]: Using backend LokyBackend with 4 concurrent workers.\n"
     ]
    },
    {
     "name": "stdout",
     "output_type": "stream",
     "text": [
      "Fitting 4 folds for each of 160 candidates, totalling 640 fits\n"
     ]
    },
    {
     "name": "stderr",
     "output_type": "stream",
     "text": [
      "[Parallel(n_jobs=4)]: Done  58 tasks      | elapsed:    1.2s\n",
      "[Parallel(n_jobs=4)]: Done 300 tasks      | elapsed:    6.9s\n",
      "[Parallel(n_jobs=4)]: Done 640 out of 640 | elapsed:   13.4s finished\n",
      "[Parallel(n_jobs=4)]: Using backend LokyBackend with 4 concurrent workers.\n"
     ]
    },
    {
     "name": "stdout",
     "output_type": "stream",
     "text": [
      "Fitting 4 folds for each of 160 candidates, totalling 640 fits\n"
     ]
    },
    {
     "name": "stderr",
     "output_type": "stream",
     "text": [
      "[Parallel(n_jobs=4)]: Done  92 tasks      | elapsed:    1.6s\n",
      "[Parallel(n_jobs=4)]: Done 576 tasks      | elapsed:    9.5s\n"
     ]
    },
    {
     "name": "stdout",
     "output_type": "stream",
     "text": [
      "RandomForest : \n",
      "Nested_CV :  32.00  %\n",
      "Best_parameter:  {'bootstrap': True, 'max_depth': 2, 'max_features': 'auto', 'min_samples_leaf': 1, 'min_samples_split': 2, 'n_estimators': 18}\n",
      "\n"
     ]
    },
    {
     "name": "stderr",
     "output_type": "stream",
     "text": [
      "[Parallel(n_jobs=4)]: Done 640 out of 640 | elapsed:   10.5s finished\n"
     ]
    }
   ],
   "source": [
    "inner_cv = KFold(n_splits=4, shuffle=True, random_state=2)\n",
    "outer_cv = KFold(n_splits=4, shuffle=True, random_state=2)\n",
    "# Optimizing Parameter\n",
    "clf = GridSearchCV(RandomForestClassifier(random_state=42), param_grid, verbose=2, cv=inner_cv,n_jobs=4) #Verbose =2 red box  \n",
    "#n_jobs คือให้ทำ task ขนาดกันเป็นจำนวน4\n",
    "clf.fit(X, y)\n",
    "# Nested CV with parameter optimization\n",
    "nested_score = cross_val_score(clf, X, y, cv=outer_cv)\n",
    "print('RandomForest : ')\n",
    "print('Nested_CV :  '+'%.2f ' %(nested_score.mean()*100)+' %')\n",
    "print('Best_parameter:  '+str(clf.best_params_))\n",
    "print('')"
   ]
  },
  {
   "cell_type": "markdown",
   "metadata": {},
   "source": [
    "verbosity level ref:http://www2.cs.uregina.ca/~dbd/cs831/notes/ml/dtrees/c4.5/verbrules.html\n"
   ]
  },
  {
   "cell_type": "markdown",
   "metadata": {},
   "source": [
    "### Decision Tree"
   ]
  },
  {
   "cell_type": "code",
   "execution_count": 86,
   "metadata": {
    "scrolled": true
   },
   "outputs": [
    {
     "name": "stderr",
     "output_type": "stream",
     "text": [
      "[Parallel(n_jobs=1)]: Using backend SequentialBackend with 1 concurrent workers.\n"
     ]
    },
    {
     "name": "stdout",
     "output_type": "stream",
     "text": [
      "Fitting 4 folds for each of 294 candidates, totalling 1176 fits\n"
     ]
    },
    {
     "name": "stderr",
     "output_type": "stream",
     "text": [
      "[Parallel(n_jobs=1)]: Done 1176 out of 1176 | elapsed:   21.9s finished\n",
      "[Parallel(n_jobs=1)]: Using backend SequentialBackend with 1 concurrent workers.\n"
     ]
    },
    {
     "name": "stdout",
     "output_type": "stream",
     "text": [
      "Fitting 4 folds for each of 294 candidates, totalling 1176 fits\n"
     ]
    },
    {
     "name": "stderr",
     "output_type": "stream",
     "text": [
      "[Parallel(n_jobs=1)]: Done 1176 out of 1176 | elapsed:   17.8s finished\n",
      "[Parallel(n_jobs=1)]: Using backend SequentialBackend with 1 concurrent workers.\n"
     ]
    },
    {
     "name": "stdout",
     "output_type": "stream",
     "text": [
      "Fitting 4 folds for each of 294 candidates, totalling 1176 fits\n"
     ]
    },
    {
     "name": "stderr",
     "output_type": "stream",
     "text": [
      "[Parallel(n_jobs=1)]: Done 1176 out of 1176 | elapsed:   18.2s finished\n",
      "[Parallel(n_jobs=1)]: Using backend SequentialBackend with 1 concurrent workers.\n"
     ]
    },
    {
     "name": "stdout",
     "output_type": "stream",
     "text": [
      "Fitting 4 folds for each of 294 candidates, totalling 1176 fits\n"
     ]
    },
    {
     "name": "stderr",
     "output_type": "stream",
     "text": [
      "[Parallel(n_jobs=1)]: Done 1176 out of 1176 | elapsed:   19.0s finished\n",
      "[Parallel(n_jobs=1)]: Using backend SequentialBackend with 1 concurrent workers.\n"
     ]
    },
    {
     "name": "stdout",
     "output_type": "stream",
     "text": [
      "Fitting 4 folds for each of 294 candidates, totalling 1176 fits\n",
      "DecisionTree : \n",
      "Nested_CV :  30.00  %\n",
      "Best_parameter:  {'max_leaf_nodes': 7, 'min_samples_split': 2}\n",
      "\n"
     ]
    },
    {
     "name": "stderr",
     "output_type": "stream",
     "text": [
      "[Parallel(n_jobs=1)]: Done 1176 out of 1176 | elapsed:   18.3s finished\n"
     ]
    }
   ],
   "source": [
    "params = {\n",
    "        'max_leaf_nodes': list(range(2, 100)),\n",
    "        'min_samples_split': [2, 3, 4]\n",
    "            }\n",
    "inner_cv = KFold(n_splits=4, shuffle=True, random_state=2)\n",
    "outer_cv = KFold(n_splits=4, shuffle=True, random_state=2)\n",
    "# Optimizing Parameter\n",
    "clf = GridSearchCV(DecisionTreeClassifier(random_state=42), params, verbose=1, cv=inner_cv) #verbose=1คือกล่องสีแดงด้านล่าง\n",
    "clf.fit(X, y)\n",
    "# Nested CV with parameter optimization\n",
    "nested_score = cross_val_score(clf, X, y, cv=outer_cv)\n",
    "print('DecisionTree : ')\n",
    "print('Nested_CV :  '+'%.2f ' %(nested_score.mean()*100)+' %')\n",
    "print('Best_parameter:  '+str(clf.best_params_))\n",
    "print('')"
   ]
  },
  {
   "cell_type": "markdown",
   "metadata": {},
   "source": [
    "### Tree Summary\n",
    "ในการใช้ Tree จะได้ค่าแม่นยำเพียง 36%และ37%ตามลำดับ โดยใช้ best parameter ตามที่ตั้งค่าเอาไว้\n",
    "ลดลงมาเหลือเพียงแค่ 32%และ30%"
   ]
  },
  {
   "cell_type": "markdown",
   "metadata": {},
   "source": [
    "## Logistic Regression\n",
    "Test with BinaryRelevance and ClassifierChain\n",
    "\n",
    "สำหรับ LabelPowerset การนำ LogisticRegression มาใช้ แบบ multi label จะดูไม่เหมาะสมต่อการทำ X ,y1,y2,...,yn \n",
    "\n",
    "จึงเลือกใช้แค่สองวิธีแล้วนำมาเปรัยบเทียบกัน"
   ]
  },
  {
   "cell_type": "code",
   "execution_count": 87,
   "metadata": {},
   "outputs": [],
   "source": [
    "lr_pram = { 'classifier': [LogisticRegression()],\n",
    "            'classifier__penalty':('l1', 'l2'),                  \n",
    "              'classifier__solver':('newton-cg', 'lbfgs', 'liblinear', 'sag', 'saga'),\n",
    "          'classifier__C':[0.01, 0.1, 1, 10]}"
   ]
  },
  {
   "cell_type": "code",
   "execution_count": 88,
   "metadata": {
    "scrolled": true
   },
   "outputs": [
    {
     "data": {
      "text/plain": [
       "'ไม่สามารถรันที่เดียวได้เลยแยกรันโดยจูนพารามีเตอร์ตามด้านล่าง'"
      ]
     },
     "execution_count": 88,
     "metadata": {},
     "output_type": "execute_result"
    }
   ],
   "source": [
    "inner_cv = KFold(n_splits=4, shuffle=True, random_state=2)\n",
    "outer_cv = KFold(n_splits=4, shuffle=True, random_state=2)\n",
    "# Optimizing Parameter\n",
    "clf = GridSearchCV(BinaryRelevance(), lr_pram, cv=inner_cv) \n",
    "clf.fit(X, y)\n",
    "# Nested CV with parameter optimization\n",
    "# nested_score = cross_val_score(clf, X, y, cv=outer_cv)\n",
    "# print('LogisticRegression : ')\n",
    "# print('Nested_CV :  '+'%.2f ' %(nested_score.mean()*100)+' %')\n",
    "# print('Best_parameter:  '+str(clf.best_params_))\n",
    "# print('')\n",
    "\"\"\"ไม่สามารถรันที่เดียวได้เลยแยกรันโดยจูนพารามีเตอร์ตามด้านล่าง\"\"\""
   ]
  },
  {
   "cell_type": "code",
   "execution_count": 89,
   "metadata": {},
   "outputs": [],
   "source": [
    "lr = LogisticRegression(solver='liblinear',penalty='l1')"
   ]
  },
  {
   "cell_type": "code",
   "execution_count": 90,
   "metadata": {},
   "outputs": [
    {
     "name": "stdout",
     "output_type": "stream",
     "text": [
      "LogisticRegression : \n",
      "Nested_CV :  29.00  %\n",
      "Best_parameter:  {'classifier': LogisticRegression(C=0.01, penalty='l1', solver='liblinear'), 'classifier__C': 0.01, 'classifier__penalty': 'l1', 'classifier__solver': 'liblinear'}\n",
      "\n"
     ]
    }
   ],
   "source": [
    "nested_score = cross_val_score(BinaryRelevance(lr), X, y, cv=outer_cv)\n",
    "print('LogisticRegression : ')\n",
    "print('Nested_CV :  '+'%.2f ' %(nested_score.mean()*100)+' %')\n",
    "print('Best_parameter:  '+str(clf.best_params_))\n",
    "print('')"
   ]
  },
  {
   "cell_type": "code",
   "execution_count": 91,
   "metadata": {},
   "outputs": [
    {
     "data": {
      "text/plain": [
       "GridSearchCV(cv=KFold(n_splits=4, random_state=2, shuffle=True),\n",
       "             estimator=ClassifierChain(require_dense=[True, True]),\n",
       "             param_grid={'classifier': [LogisticRegression(C=0.01, penalty='l1',\n",
       "                                                           solver='liblinear')],\n",
       "                         'classifier__C': [0.01, 0.1, 1, 10],\n",
       "                         'classifier__penalty': ('l1', 'l2'),\n",
       "                         'classifier__solver': ('newton-cg', 'lbfgs',\n",
       "                                                'liblinear', 'sag', 'saga')})"
      ]
     },
     "execution_count": 91,
     "metadata": {},
     "output_type": "execute_result"
    }
   ],
   "source": [
    "clf = GridSearchCV(ClassifierChain(), lr_pram, cv=inner_cv) \n",
    "clf.fit(X, y)"
   ]
  },
  {
   "cell_type": "code",
   "execution_count": 92,
   "metadata": {},
   "outputs": [
    {
     "name": "stdout",
     "output_type": "stream",
     "text": [
      "LogisticRegression : \n",
      "Nested_CV :  28.00  %\n",
      "Best_parameter:  {'classifier': LogisticRegression(C=0.01, penalty='l1', solver='liblinear'), 'classifier__C': 0.01, 'classifier__penalty': 'l1', 'classifier__solver': 'liblinear'}\n",
      "\n"
     ]
    }
   ],
   "source": [
    "nested_score = cross_val_score(ClassifierChain(lr), X, y, cv=outer_cv)\n",
    "print('LogisticRegression : ')\n",
    "print('Nested_CV :  '+'%.2f ' %(nested_score.mean()*100)+' %')\n",
    "print('Best_parameter:  '+str(clf.best_params_))\n",
    "print('')"
   ]
  },
  {
   "cell_type": "markdown",
   "metadata": {},
   "source": [
    "### Logistic Regression Summary with Author Detail\n",
    "ในการใช้ Logistic Regression หา label เราได้ best parameter มาคือ C=1, penalty='l1', solver='liblinear'\n",
    "ให้ค่าความแม่นยำ 36% โดยเป็นการหาแบบ BinaryRelevance&ClassifierChain ด้วยการทำ NestCV\n",
    "แต่พอมีข้อมูลผู้แต่งมาจะทำให้คำศัพท์มันเยอะขึ้นแต่ไม่ช่วยในการทำนายความแม่นยำมิหนำซ้ำยังส่งผลให้ทำงานหาความแม่นยำได้แย่ลงอีกด้วย"
   ]
  },
  {
   "cell_type": "markdown",
   "metadata": {},
   "source": [
    "## Multilabel kNN"
   ]
  },
  {
   "cell_type": "code",
   "execution_count": 93,
   "metadata": {
    "scrolled": true
   },
   "outputs": [
    {
     "name": "stdout",
     "output_type": "stream",
     "text": [
      "Multiple kNN : \n",
      "Nested_CV :  33.00  %\n",
      "Best_parameter:  {'k': 6, 's': 0.5}\n",
      "\n"
     ]
    }
   ],
   "source": [
    "X_knn = lil_matrix(X).toarray()\n",
    "y_knn = lil_matrix(y).toarray()\n",
    "knn_pram = {'k': range(1,15), 's': [0.5, 0.7, 1.0]}\n",
    "inner_cv = KFold(n_splits=4, shuffle=True, random_state=2)\n",
    "outer_cv = KFold(n_splits=4, shuffle=True, random_state=2)\n",
    "# Optimizing Parameter\n",
    "clf = GridSearchCV(MLkNN(), knn_pram, cv=inner_cv) \n",
    "clf.fit(X_knn, y_knn)\n",
    "# Nested CV with parameter optimization\n",
    "nested_score = cross_val_score(clf, X_knn, y_knn, cv=outer_cv)\n",
    "print('Multiple kNN : ')\n",
    "print('Nested_CV :  '+'%.2f ' %(nested_score.mean()*100)+' %')\n",
    "print('Best_parameter:  '+str(clf.best_params_))\n",
    "print('')"
   ]
  },
  {
   "cell_type": "markdown",
   "metadata": {},
   "source": [
    "### MLkNN Summary\n",
    "จากการทำ GridSearchCV ได้ parameter ที่ดีคือใช้ k=7 และ s =0.7\n",
    "โดยให้ความแม่นยำอยู่ที่ 35%\n",
    "พอมีข้อมูลผู้แต่งมาต่อทำให้การแบ่งกลุ่มนั้นน้อยลงโดยใช้ k=6 s=0.5 แต่ให้ความแม่นยำเพียงแค่ 33%"
   ]
  },
  {
   "cell_type": "markdown",
   "metadata": {},
   "source": [
    "## Less Word\n",
    "min_df = 5"
   ]
  },
  {
   "cell_type": "code",
   "execution_count": 94,
   "metadata": {},
   "outputs": [
    {
     "data": {
      "text/plain": [
       "(100, 737)"
      ]
     },
     "execution_count": 94,
     "metadata": {},
     "output_type": "execute_result"
    }
   ],
   "source": [
    "vectorizer = CountVectorizer(stop_words=\"english\",min_df = 5, tokenizer= lemma_tokenizer)\n",
    "X = vectorizer.fit_transform(mix_data)\n",
    "X.shape"
   ]
  },
  {
   "cell_type": "markdown",
   "metadata": {},
   "source": [
    "### Naive Baynes with BinaryRelevance"
   ]
  },
  {
   "cell_type": "code",
   "execution_count": 95,
   "metadata": {
    "scrolled": true
   },
   "outputs": [
    {
     "name": "stdout",
     "output_type": "stream",
     "text": [
      "|-------------------- Accuracy Testing --------------------|\n",
      " Multinomia Naive Baynes accuracy:  0.16666666666666666\n",
      " Precision Score Multinomial:  0.1\n",
      " Recall Score Multinomial:  0.2\n",
      "|----------------------------------------------------------|\n",
      " Bernoulib Naive Baynes accuracy:  0.16666666666666666\n",
      " Precision Score Bernoulib:  0.0\n",
      " Recall Score Bernoulib:  0.0\n"
     ]
    }
   ],
   "source": [
    "bnr_rlv_multi = BinaryRelevance(MultinomialNB())\n",
    "bnr_rlv_bi = BinaryRelevance(BernoulliNB(alpha=0.7))\n",
    "bnr_rlv_multi.fit(X_train,y_train)\n",
    "multi_pred = bnr_rlv_multi.predict(X_test)\n",
    "bnr_rlv_bi.fit(X_train,y_train)\n",
    "bi_pred = bnr_rlv_bi.predict(X_test)\n",
    "\"\"\"\n",
    "    กำหนด labels ในตัว precision&recall เป็น 0ม1 ตาม binary ของคำตอบที่เราแบ่งmulti label ให้มี 0,1\n",
    "\"\"\"\n",
    "print(\"|-------------------- Accuracy Testing --------------------|\")\n",
    "print(\" Multinomia Naive Baynes accuracy: \",accuracy_score(y_test, multi_pred))\n",
    "print(\" Precision Score Multinomial: \",precision_score(y_test,multi_pred,labels=[0,1],average='micro')) \n",
    "print(\" Recall Score Multinomial: \",recall_score(y_test, multi_pred,labels=[0,1],average='micro'))\n",
    "print(\"|----------------------------------------------------------|\")\n",
    "print(\" Bernoulib Naive Baynes accuracy: \",accuracy_score(y_test, bi_pred))\n",
    "print(\" Precision Score Bernoulib: \",precision_score(y_test,bi_pred,labels=[0,1],average='micro'))\n",
    "print(\" Recall Score Bernoulib: \",recall_score(y_test,bi_pred,labels=[0,1],average='micro'))"
   ]
  },
  {
   "cell_type": "markdown",
   "metadata": {},
   "source": [
    "เราจะเห็นว่า Multinomial สามารถทายผล  class และ ความถูกต้องโดยรวมของข้อมูลได้ แม่นยำกว่า แม้ accuracy ของโมเดลจะเท่ากันก็ตาม"
   ]
  },
  {
   "cell_type": "markdown",
   "metadata": {},
   "source": [
    "### Testing with Leave one out"
   ]
  },
  {
   "cell_type": "code",
   "execution_count": 96,
   "metadata": {},
   "outputs": [],
   "source": [
    "scores1 = cross_val_score(BinaryRelevance(MultinomialNB()) , X , y , cv = X.shape[0])\n",
    "scores2 = cross_val_score(BinaryRelevance(BernoulliNB(alpha=0.7)) , X , y , cv = X.shape[0])"
   ]
  },
  {
   "cell_type": "code",
   "execution_count": 97,
   "metadata": {},
   "outputs": [
    {
     "name": "stdout",
     "output_type": "stream",
     "text": [
      "Multinomial Accuracy: 13.00 (+/- 0.34)\n",
      "Bernoulib Accuracy: 19.00 (+/- 0.39)\n"
     ]
    }
   ],
   "source": [
    "print(\"Multinomial Accuracy: %0.2f (+/- %0.2f)\" % (scores1.mean()*100, scores1.std()))\n",
    "print(\"Bernoulib Accuracy: %0.2f (+/- %0.2f)\" % (scores2.mean()*100, scores2.std()))"
   ]
  },
  {
   "cell_type": "markdown",
   "metadata": {},
   "source": [
    "### Naive Bayne with ClassifierChain"
   ]
  },
  {
   "cell_type": "code",
   "execution_count": 98,
   "metadata": {
    "scrolled": true
   },
   "outputs": [
    {
     "name": "stdout",
     "output_type": "stream",
     "text": [
      "|-------------------- Accuracy Testing --------------------|\n",
      " Multinomia Naive Baynes accuracy:  0.16666666666666666\n",
      " Precision Score Multinomail:  0.1\n",
      " Recall Score Multinomial:  0.2\n",
      "|----------------------------------------------------------|\n",
      " Bernoulib Naive Baynes accuracy:  0.16666666666666666\n",
      " Precision Score Bernoulib:  0.0\n",
      " Recall Score Bernoulib:  0.0\n"
     ]
    }
   ],
   "source": [
    "chain_multi = ClassifierChain(MultinomialNB())\n",
    "chain_bi = ClassifierChain(BernoulliNB(alpha=0.7))\n",
    "chain_multi.fit(X_train,y_train)\n",
    "chain_multi_pred = chain_multi.predict(X_test)\n",
    "chain_bi.fit(X_train,y_train)\n",
    "chain_bi_pred = chain_bi.predict(X_test)\n",
    "print(\"|-------------------- Accuracy Testing --------------------|\")\n",
    "print(\" Multinomia Naive Baynes accuracy: \",accuracy_score(y_test, chain_multi_pred))\n",
    "print(\" Precision Score Multinomail: \",precision_score(y_test, chain_multi_pred,labels=[0,1],average='micro'))\n",
    "print(\" Recall Score Multinomial: \",recall_score(y_test, chain_multi_pred,labels=[0,1],average='micro'))\n",
    "print(\"|----------------------------------------------------------|\")\n",
    "print(\" Bernoulib Naive Baynes accuracy: \",accuracy_score(y_test, chain_bi_pred))\n",
    "print(\" Precision Score Bernoulib: \",precision_score(y_test, chain_bi_pred,labels=[0,1],average='micro'))\n",
    "print(\" Recall Score Bernoulib: \",recall_score(y_test,chain_bi_pred,labels=[0,1],average='micro'))"
   ]
  },
  {
   "cell_type": "markdown",
   "metadata": {},
   "source": [
    "จาก ClassifierChain เราะเห็นได้ว่าแม้ความแม่นยำจะต่างไปไม่มาก แต่ค่า Recall&Precision จะต่างกันอยู่ถึง 20%"
   ]
  },
  {
   "cell_type": "markdown",
   "metadata": {},
   "source": [
    "### Testing with Leave one out"
   ]
  },
  {
   "cell_type": "code",
   "execution_count": 99,
   "metadata": {},
   "outputs": [
    {
     "name": "stdout",
     "output_type": "stream",
     "text": [
      "Multinomial Accuracy: 13.00 (+/- 0.34)\n",
      "Bernoulib Accuracy: 19.00 (+/- 0.39)\n"
     ]
    }
   ],
   "source": [
    "scores1 = cross_val_score(ClassifierChain(MultinomialNB()) , X , y , cv = X.shape[0])\n",
    "scores2 = cross_val_score(ClassifierChain(BernoulliNB(alpha=0.7)) , X , y , cv = X.shape[0])\n",
    "print(\"Multinomial Accuracy: %0.2f (+/- %0.2f)\" % (scores1.mean()*100, scores1.std()))\n",
    "print(\"Bernoulib Accuracy: %0.2f (+/- %0.2f)\" % (scores2.mean()*100, scores2.std()))"
   ]
  },
  {
   "cell_type": "markdown",
   "metadata": {},
   "source": [
    "### Naive Baynes with LabelPowerset"
   ]
  },
  {
   "cell_type": "code",
   "execution_count": 100,
   "metadata": {
    "scrolled": false
   },
   "outputs": [
    {
     "name": "stdout",
     "output_type": "stream",
     "text": [
      "|-------------------- Accuracy Testing --------------------|\n",
      " Multinomia Naive Baynes accuracy:  0.8333333333333334\n",
      " Precision Score :  1.0\n",
      " Recall Score :  0.8\n",
      "|----------------------------------------------------------|\n",
      " Bernoulib Naive Baynes accuracy:  0.5333333333333333\n",
      " Precision Score :  0.7\n",
      " Recall Score :  0.45161290322580644\n"
     ]
    }
   ],
   "source": [
    "multi_power = LabelPowerset(MultinomialNB())\n",
    "bi_power = LabelPowerset(BernoulliNB(alpha=0.7))\n",
    "multi_power.fit(X_test,y_test)\n",
    "multi_power_pred = multi_power.predict(X_test)\n",
    "bi_power.fit(X_test,y_test)\n",
    "bi_power_pred = bi_power.predict(X_test)\n",
    "print(\"|-------------------- Accuracy Testing --------------------|\")\n",
    "print(\" Multinomia Naive Baynes accuracy: \",accuracy_score(y_test, multi_power_pred))\n",
    "print(\" Precision Score : \",precision_score(y_test, multi_power_pred,labels=[0,1],average='micro'))\n",
    "print(\" Recall Score : \",recall_score(y_test, multi_power_pred,labels=[0,1],average='micro'))\n",
    "print(\"|----------------------------------------------------------|\")\n",
    "print(\" Bernoulib Naive Baynes accuracy: \",accuracy_score(y_test, bi_power_pred))\n",
    "print(\" Precision Score : \",precision_score(y_test, bi_power_pred,average='micro'))\n",
    "print(\" Recall Score : \",recall_score(y_test, bi_power_pred,average='micro'))"
   ]
  },
  {
   "cell_type": "markdown",
   "metadata": {},
   "source": [
    "### Testing with Leave one out"
   ]
  },
  {
   "cell_type": "code",
   "execution_count": 101,
   "metadata": {},
   "outputs": [
    {
     "name": "stdout",
     "output_type": "stream",
     "text": [
      "Multinomial Accuracy: 24.00 (+/- 0.43)\n",
      "Bernoulib Accuracy: 11.00 (+/- 0.31)\n"
     ]
    }
   ],
   "source": [
    "scores1 = cross_val_score(multi_power , X , y , cv = X.shape[0])\n",
    "scores2 = cross_val_score( bi_power, X , y , cv = X.shape[0])\n",
    "print(\"Multinomial Accuracy: %0.2f (+/- %0.2f)\" % (scores1.mean()*100, scores1.std()))\n",
    "print(\"Bernoulib Accuracy: %0.2f (+/- %0.2f)\" % (scores2.mean()*100, scores2.std()))"
   ]
  },
  {
   "cell_type": "markdown",
   "metadata": {},
   "source": [
    "Label Powerset traines on all unique label combinations found in the training data.\n",
    "ดังนั้น การทำการคำนวณหรือ test ที่มีการซับซ้อนหรือเยอะเช่นการเปรียบเทียบที่เยอะเกินไปอาจทำให้ความแม่นยำลดลง"
   ]
  },
  {
   "cell_type": "code",
   "execution_count": 102,
   "metadata": {
    "scrolled": false
   },
   "outputs": [
    {
     "data": {
      "image/png": "[encoded data removed]",
      "text/plain": [
       "<Figure size 432x288 with 1 Axes>"
      ]
     },
     "metadata": {
      "needs_background": "light"
     },
     "output_type": "display_data"
    }
   ],
   "source": [
    "multi_acc = (accuracy_score(y_test, multi_pred),accuracy_score(y_test, chain_multi_pred),accuracy_score(y_test, multi_power_pred))\n",
    "bi_acc = (accuracy_score(y_test, bi_pred),accuracy_score(y_test, chain_bi_pred),accuracy_score(y_test, bi_power_pred))\n",
    "width = 0.4\n",
    "plt.bar(np.arange(3),multi_acc,width,label =\"MultinomialNB\")\n",
    "plt.bar(np.arange(3)+width,bi_acc,width,label =\"BernoulliNB\")\n",
    "plt.ylabel('Accuracy')\n",
    "plt.title('Naive baynes Accuracy')\n",
    "\n",
    "plt.xticks(np.arange(3) + width / 2, ('BinaryRelevance', 'ChainClassifier', 'LabelPowerset'))\n",
    "plt.legend(loc='best')\n",
    "plt.show()"
   ]
  },
  {
   "cell_type": "markdown",
   "metadata": {},
   "source": [
    "กราฟแสดงการเปรียบเทียบความแม่นยำในการทำ train test split โดยมีโอกาสเป็น Lucky Split"
   ]
  },
  {
   "cell_type": "code",
   "execution_count": 103,
   "metadata": {},
   "outputs": [],
   "source": [
    "models_lst = [BinaryRelevance(),BinaryRelevance(),ClassifierChain(),ClassifierChain(),LabelPowerset(),LabelPowerset()]\n",
    "parameter = [{\n",
    "        'classifier': [MultinomialNB()],\n",
    "        'classifier__alpha': [0.5,0.7, 1.0,10.0]\n",
    "    },\n",
    "    {\n",
    "        'classifier':[BernoulliNB()],\n",
    "        'classifier_alpha': [0.5,0.7,1.0,10.0]\n",
    "    }\n",
    "]\n",
    "\n",
    "model_name = ['BinaryRelevanceMultinomial','BinaryRelevanceBernoulli','ClassifierChainMultinomial'\\\n",
    "             ,'ClassifierChainBernoulli','LabelPowersetMultinobial','LabelPowersetBernoulli']"
   ]
  },
  {
   "cell_type": "code",
   "execution_count": 104,
   "metadata": {
    "scrolled": true
   },
   "outputs": [
    {
     "name": "stdout",
     "output_type": "stream",
     "text": [
      "BinaryRelevanceMultinomial:  \n",
      "Nested_CV :  24.00  %\n",
      "Best_parameter:  {'classifier': MultinomialNB(alpha=10.0), 'classifier__alpha': 10.0}\n",
      "\n",
      "BinaryRelevanceBernoulli:  \n",
      "Nested_CV :  24.00  %\n",
      "Best_parameter:  {'classifier': MultinomialNB(alpha=10.0), 'classifier__alpha': 10.0}\n",
      "\n",
      "ClassifierChainMultinomial:  \n",
      "Nested_CV :  24.00  %\n",
      "Best_parameter:  {'classifier': MultinomialNB(alpha=10.0), 'classifier__alpha': 10.0}\n",
      "\n",
      "ClassifierChainBernoulli:  \n",
      "Nested_CV :  24.00  %\n",
      "Best_parameter:  {'classifier': MultinomialNB(alpha=10.0), 'classifier__alpha': 10.0}\n",
      "\n",
      "LabelPowersetMultinobial:  \n",
      "Nested_CV :  27.00  %\n",
      "Best_parameter:  {'classifier': MultinomialNB(alpha=10.0), 'classifier__alpha': 10.0}\n",
      "\n",
      "LabelPowersetBernoulli:  \n",
      "Nested_CV :  27.00  %\n",
      "Best_parameter:  {'classifier': MultinomialNB(alpha=10.0), 'classifier__alpha': 10.0}\n",
      "\n"
     ]
    }
   ],
   "source": [
    "count = 0\n",
    "for i in models_lst:\n",
    "    # Choose cross-validation techniques for the inner and outer loops,\n",
    "    # independently of the dataset.\n",
    "    inner_cv = KFold(n_splits=4, shuffle=True, random_state=2)\n",
    "    outer_cv = KFold(n_splits=4, shuffle=True, random_state=2)\n",
    "    # Optimizing Parameter\n",
    "    clf = GridSearchCV(i, parameter[0:1], cv=inner_cv)\n",
    "    clf.fit(X, y)\n",
    "\n",
    "    # Nested CV with parameter optimization\n",
    "    nested_score = cross_val_score(clf, X, y, cv=outer_cv)\n",
    "    print(model_name[count]+\":  \")\n",
    "    print('Nested_CV :  '+'%.2f ' %(nested_score.mean()*100)+' %')\n",
    "    print('Best_parameter:  '+str(clf.best_params_))\n",
    "    print('')\n",
    "    count += 1"
   ]
  },
  {
   "cell_type": "code",
   "execution_count": 105,
   "metadata": {
    "scrolled": false
   },
   "outputs": [
    {
     "data": {
      "image/png": "[encoded data removed]",
      "text/plain": [
       "<Figure size 1296x720 with 1 Axes>"
      ]
     },
     "metadata": {
      "needs_background": "light"
     },
     "output_type": "display_data"
    }
   ],
   "source": [
    "fig, ax = plt.subplots(figsize = (18,10))\n",
    "tts = (accuracy_score(y_test, multi_pred),accuracy_score(y_test, bi_pred),accuracy_score(y_test, chain_multi_pred),\\\n",
    "       accuracy_score(y_test, chain_bi_pred),accuracy_score(y_test, multi_power_pred),accuracy_score(y_test, bi_power_pred))\n",
    "loo = (0.35,0.33,0.33,0.33,0.33,0.33)\n",
    "nested = (0.24,0.24,0.24,0.24,0.27,0.27)\n",
    "width = 0.2\n",
    "plt.bar(np.arange(6),tts,width,label =\"Train Test Split\")\n",
    "plt.bar(np.arange(6)+(width),loo,width,label =\"Leave one out\")\n",
    "plt.bar(np.arange(6)+(2*width),nested,width,label =\"Nested CV\")\n",
    "plt.ylabel('Accuracy')\n",
    "plt.title('Naive baynes Accuracy')\n",
    "plt.xlabel('Evaluation')\n",
    "plt.xticks(np.arange(6) + (1.5*width) , ('BinaryRelevanceMultinomial','BinaryRelevanceBernoullib', \\\n",
    "                        'ChainClassifierMultinomial','ChainClassifierBernoullib', 'LabelPowersetMultinomial','LabelPowersetBernoullib'))\n",
    "plt.legend(loc='best')\n",
    "plt.grid()\n",
    "plt.show()\n"
   ]
  },
  {
   "cell_type": "markdown",
   "metadata": {},
   "source": [
    "### Naive Baynes Summary with Author Detail & Less Word Weight\n",
    "ในการทดสอบ Naive Baynes เราได้ทำการทดสอบด้วย Naive Baynes สองแบบคือ Multinomial&Bernoulli\n",
    "   \n",
    "\n",
    "ถ้าหากเรา Tune parameter with gridsearch CV แล้วนำมาหา nested cv  เราจะได้ความแม่นยำเป็น 22-24% ซึ่งน้อยลงจากการทำโดยไม่มีข้อมูลผู้แต่ง\n",
    "แต่หากเราสังเกตในส่วนของ train test split จะเห็นได้ว่าพอมีข้อมูลที่เยอะขึ้นการทำแบบ powewlable set สูงขึ้น อาจเป็นเพราะ lucky split เหมือนเคยแต่ความเหมาะสมในการดูข้อมูลทางความน่าจะเป็นของสูตรจะเห็นได้ว่ามันมีความต่างกันอยู่มากตามข้อมูล\n",
    "แต่พอทำ Less word ทำให้เห็นว่ามีการแบ่งกลุ่มโดยมีคำที่น้อยกว่าเดิม ซึ่งค่าความแม่นยำจะเหวี่ยง และส่วนมากจะลดลง"
   ]
  },
  {
   "cell_type": "markdown",
   "metadata": {},
   "source": [
    "## Tree\n",
    "\n",
    "### RandomForest"
   ]
  },
  {
   "cell_type": "code",
   "execution_count": 106,
   "metadata": {},
   "outputs": [],
   "source": [
    "# random n_estimator โดยการใช้ numpy linspace \n",
    "n_estimators = [int(x) for x in np.linspace(start = 5, stop = 60, num = 5)]\n",
    "# Number of features ที่จะถูก split ออกมา\n",
    "max_features = ['auto', 'sqrt']\n",
    "# ความลึกสูงสุด (ไม่ควรลึกเกินไปและน้อยเกินไป)\n",
    "max_depth = [2,4]\n",
    "# Minimum samples ที่ใช้ในการแตก node\n",
    "min_samples_split = [2, 5]\n",
    "# Minimum samples required at each leaf node\n",
    "min_samples_leaf = [1, 2]\n",
    "# เลือกตัวอย่างในการ training ของต้นไม้แต่ละต้น\n",
    "bootstrap = [True, False]\n",
    "\"\"\"\n",
    "    ใช้ข้อมูลจากด้านบนมาใส่ใน dick ในการจูนค่า parameter\n",
    "\"\"\"\n",
    "param_grid = {'n_estimators': n_estimators,\n",
    "               'max_features': max_features,\n",
    "               'max_depth': max_depth,\n",
    "               'min_samples_split': min_samples_split,\n",
    "               'min_samples_leaf': min_samples_leaf,\n",
    "               'bootstrap': bootstrap}\n"
   ]
  },
  {
   "cell_type": "code",
   "execution_count": 107,
   "metadata": {
    "scrolled": false
   },
   "outputs": [
    {
     "name": "stdout",
     "output_type": "stream",
     "text": [
      "Fitting 4 folds for each of 160 candidates, totalling 640 fits\n"
     ]
    },
    {
     "name": "stderr",
     "output_type": "stream",
     "text": [
      "[Parallel(n_jobs=4)]: Using backend LokyBackend with 4 concurrent workers.\n",
      "[Parallel(n_jobs=4)]: Done  92 tasks      | elapsed:    1.5s\n",
      "[Parallel(n_jobs=4)]: Done 576 tasks      | elapsed:    9.4s\n",
      "[Parallel(n_jobs=4)]: Done 640 out of 640 | elapsed:   10.5s finished\n",
      "[Parallel(n_jobs=4)]: Using backend LokyBackend with 4 concurrent workers.\n"
     ]
    },
    {
     "name": "stdout",
     "output_type": "stream",
     "text": [
      "Fitting 4 folds for each of 160 candidates, totalling 640 fits\n"
     ]
    },
    {
     "name": "stderr",
     "output_type": "stream",
     "text": [
      "[Parallel(n_jobs=4)]: Done  92 tasks      | elapsed:    1.5s\n",
      "[Parallel(n_jobs=4)]: Done 576 tasks      | elapsed:    9.6s\n",
      "[Parallel(n_jobs=4)]: Done 640 out of 640 | elapsed:   10.8s finished\n",
      "[Parallel(n_jobs=4)]: Using backend LokyBackend with 4 concurrent workers.\n"
     ]
    },
    {
     "name": "stdout",
     "output_type": "stream",
     "text": [
      "Fitting 4 folds for each of 160 candidates, totalling 640 fits\n"
     ]
    },
    {
     "name": "stderr",
     "output_type": "stream",
     "text": [
      "[Parallel(n_jobs=4)]: Done  58 tasks      | elapsed:    1.1s\n",
      "[Parallel(n_jobs=4)]: Done 300 tasks      | elapsed:    5.8s\n",
      "[Parallel(n_jobs=4)]: Done 640 out of 640 | elapsed:   11.2s finished\n",
      "[Parallel(n_jobs=4)]: Using backend LokyBackend with 4 concurrent workers.\n"
     ]
    },
    {
     "name": "stdout",
     "output_type": "stream",
     "text": [
      "Fitting 4 folds for each of 160 candidates, totalling 640 fits\n"
     ]
    },
    {
     "name": "stderr",
     "output_type": "stream",
     "text": [
      "[Parallel(n_jobs=4)]: Done  92 tasks      | elapsed:    1.5s\n",
      "[Parallel(n_jobs=4)]: Done 576 tasks      | elapsed:    9.2s\n",
      "[Parallel(n_jobs=4)]: Done 640 out of 640 | elapsed:   10.2s finished\n",
      "[Parallel(n_jobs=4)]: Using backend LokyBackend with 4 concurrent workers.\n"
     ]
    },
    {
     "name": "stdout",
     "output_type": "stream",
     "text": [
      "Fitting 4 folds for each of 160 candidates, totalling 640 fits\n"
     ]
    },
    {
     "name": "stderr",
     "output_type": "stream",
     "text": [
      "[Parallel(n_jobs=4)]: Done  92 tasks      | elapsed:    1.6s\n",
      "[Parallel(n_jobs=4)]: Done 576 tasks      | elapsed:   10.7s\n"
     ]
    },
    {
     "name": "stdout",
     "output_type": "stream",
     "text": [
      "RandomForest : \n",
      "Nested_CV :  33.00  %\n",
      "Best_parameter:  {'bootstrap': True, 'max_depth': 2, 'max_features': 'auto', 'min_samples_leaf': 1, 'min_samples_split': 2, 'n_estimators': 5}\n",
      "\n"
     ]
    },
    {
     "name": "stderr",
     "output_type": "stream",
     "text": [
      "[Parallel(n_jobs=4)]: Done 640 out of 640 | elapsed:   11.9s finished\n"
     ]
    }
   ],
   "source": [
    "inner_cv = KFold(n_splits=4, shuffle=True, random_state=2)\n",
    "outer_cv = KFold(n_splits=4, shuffle=True, random_state=2)\n",
    "# Optimizing Parameter\n",
    "clf = GridSearchCV(RandomForestClassifier(random_state=42), param_grid, verbose=2, cv=inner_cv,n_jobs=4) #Verbose =2 red box  \n",
    "#n_jobs คือใส้ทำ task ขนาดกันเป็นจำนวน4\n",
    "clf.fit(X, y)\n",
    "# Nested CV with parameter optimization\n",
    "nested_score = cross_val_score(clf, X, y, cv=outer_cv)\n",
    "print('RandomForest : ')\n",
    "print('Nested_CV :  '+'%.2f ' %(nested_score.mean()*100)+' %')\n",
    "print('Best_parameter:  '+str(clf.best_params_))\n",
    "print('')"
   ]
  },
  {
   "cell_type": "markdown",
   "metadata": {},
   "source": [
    "verbosity level ref:http://www2.cs.uregina.ca/~dbd/cs831/notes/ml/dtrees/c4.5/verbrules.html\n"
   ]
  },
  {
   "cell_type": "markdown",
   "metadata": {},
   "source": [
    "### Decision Tree"
   ]
  },
  {
   "cell_type": "code",
   "execution_count": 108,
   "metadata": {
    "scrolled": true
   },
   "outputs": [
    {
     "name": "stderr",
     "output_type": "stream",
     "text": [
      "[Parallel(n_jobs=1)]: Using backend SequentialBackend with 1 concurrent workers.\n"
     ]
    },
    {
     "name": "stdout",
     "output_type": "stream",
     "text": [
      "Fitting 4 folds for each of 294 candidates, totalling 1176 fits\n"
     ]
    },
    {
     "name": "stderr",
     "output_type": "stream",
     "text": [
      "[Parallel(n_jobs=1)]: Done 1176 out of 1176 | elapsed:   18.4s finished\n",
      "[Parallel(n_jobs=1)]: Using backend SequentialBackend with 1 concurrent workers.\n"
     ]
    },
    {
     "name": "stdout",
     "output_type": "stream",
     "text": [
      "Fitting 4 folds for each of 294 candidates, totalling 1176 fits\n"
     ]
    },
    {
     "name": "stderr",
     "output_type": "stream",
     "text": [
      "[Parallel(n_jobs=1)]: Done 1176 out of 1176 | elapsed:   16.2s finished\n",
      "[Parallel(n_jobs=1)]: Using backend SequentialBackend with 1 concurrent workers.\n"
     ]
    },
    {
     "name": "stdout",
     "output_type": "stream",
     "text": [
      "Fitting 4 folds for each of 294 candidates, totalling 1176 fits\n"
     ]
    },
    {
     "name": "stderr",
     "output_type": "stream",
     "text": [
      "[Parallel(n_jobs=1)]: Done 1176 out of 1176 | elapsed:   14.7s finished\n",
      "[Parallel(n_jobs=1)]: Using backend SequentialBackend with 1 concurrent workers.\n"
     ]
    },
    {
     "name": "stdout",
     "output_type": "stream",
     "text": [
      "Fitting 4 folds for each of 294 candidates, totalling 1176 fits\n"
     ]
    },
    {
     "name": "stderr",
     "output_type": "stream",
     "text": [
      "[Parallel(n_jobs=1)]: Done 1176 out of 1176 | elapsed:   15.5s finished\n",
      "[Parallel(n_jobs=1)]: Using backend SequentialBackend with 1 concurrent workers.\n"
     ]
    },
    {
     "name": "stdout",
     "output_type": "stream",
     "text": [
      "Fitting 4 folds for each of 294 candidates, totalling 1176 fits\n",
      "DecisionTree : \n",
      "Nested_CV :  27.00  %\n",
      "Best_parameter:  {'max_leaf_nodes': 2, 'min_samples_split': 2}\n",
      "\n"
     ]
    },
    {
     "name": "stderr",
     "output_type": "stream",
     "text": [
      "[Parallel(n_jobs=1)]: Done 1176 out of 1176 | elapsed:   14.4s finished\n"
     ]
    }
   ],
   "source": [
    "params = {\n",
    "        'max_leaf_nodes': list(range(2, 100)),\n",
    "        'min_samples_split': [2, 3, 4]\n",
    "            }\n",
    "inner_cv = KFold(n_splits=4, shuffle=True, random_state=2)\n",
    "outer_cv = KFold(n_splits=4, shuffle=True, random_state=2)\n",
    "# Optimizing Parameter\n",
    "clf = GridSearchCV(DecisionTreeClassifier(random_state=42), params, verbose=1, cv=inner_cv) #verbose=1คือกล่องสีแดงด้านล่าง\n",
    "clf.fit(X, y)\n",
    "# Nested CV with parameter optimization\n",
    "nested_score = cross_val_score(clf, X, y, cv=outer_cv)\n",
    "print('DecisionTree : ')\n",
    "print('Nested_CV :  '+'%.2f ' %(nested_score.mean()*100)+' %')\n",
    "print('Best_parameter:  '+str(clf.best_params_))\n",
    "print('')"
   ]
  },
  {
   "cell_type": "markdown",
   "metadata": {},
   "source": [
    "### Tree Summary\n",
    "ในการใช้ Tree จะได้ค่าแม่นยำเพียง 36%และ37%ตามลำดับ โดยใช้ best parameter ตามที่ตั้งค่าเอาไว้\n",
    "ลดลงมาเหลือเพียงแค่ 32%และ30% ก่อนที่จะเปลี่ยนมาเป็น 33%และ27%"
   ]
  },
  {
   "cell_type": "markdown",
   "metadata": {},
   "source": [
    "## Logistic Regression\n",
    "Test with BinaryRelevance and ClassifierChain\n",
    "\n",
    "สำหรับ LabelPowerset การนำ LogisticRegression มาใช้ แบบ multi label จะดูไม่เหมาะสมต่อการทำ X ,y1,y2,...,yn \n",
    "\n",
    "จึงเลือกใช้แค่สองวิธีแล้วนำมาเปรัยบเทียบกัน"
   ]
  },
  {
   "cell_type": "code",
   "execution_count": 109,
   "metadata": {},
   "outputs": [],
   "source": [
    "lr_pram = { 'classifier': [LogisticRegression()],\n",
    "            'classifier__penalty':('l1', 'l2'),                  \n",
    "              'classifier__solver':('newton-cg', 'lbfgs', 'liblinear', 'sag', 'saga'),\n",
    "          'classifier__C':[0.01, 0.1, 1, 10]}"
   ]
  },
  {
   "cell_type": "code",
   "execution_count": 110,
   "metadata": {
    "scrolled": true
   },
   "outputs": [
    {
     "data": {
      "text/plain": [
       "'ไม่สามารถรันที่เดียวได้เลยแยกรันโดยจูนพารามีเตอร์ตามด้านล่าง'"
      ]
     },
     "execution_count": 110,
     "metadata": {},
     "output_type": "execute_result"
    }
   ],
   "source": [
    "inner_cv = KFold(n_splits=4, shuffle=True, random_state=2)\n",
    "outer_cv = KFold(n_splits=4, shuffle=True, random_state=2)\n",
    "# Optimizing Parameter\n",
    "clf = GridSearchCV(BinaryRelevance(), lr_pram, cv=inner_cv) \n",
    "clf.fit(X, y)\n",
    "# Nested CV with parameter optimization\n",
    "# nested_score = cross_val_score(clf, X, y, cv=outer_cv)\n",
    "# print('LogisticRegression : ')\n",
    "# print('Nested_CV :  '+'%.2f ' %(nested_score.mean()*100)+' %')\n",
    "# print('Best_parameter:  '+str(clf.best_params_))\n",
    "# print('')\n",
    "\"\"\"ไม่สามารถรันที่เดียวได้เลยแยกรันโดยจูนพารามีเตอร์ตามด้านล่าง\"\"\""
   ]
  },
  {
   "cell_type": "code",
   "execution_count": 111,
   "metadata": {},
   "outputs": [],
   "source": [
    "lr = LogisticRegression(solver='liblinear',penalty='l1')"
   ]
  },
  {
   "cell_type": "code",
   "execution_count": 112,
   "metadata": {},
   "outputs": [
    {
     "name": "stdout",
     "output_type": "stream",
     "text": [
      "LogisticRegression : \n",
      "Nested_CV :  29.00  %\n",
      "Best_parameter:  {'classifier': LogisticRegression(C=0.01, penalty='l1', solver='liblinear'), 'classifier__C': 0.01, 'classifier__penalty': 'l1', 'classifier__solver': 'liblinear'}\n",
      "\n"
     ]
    }
   ],
   "source": [
    "nested_score = cross_val_score(BinaryRelevance(lr), X, y, cv=outer_cv)\n",
    "print('LogisticRegression : ')\n",
    "print('Nested_CV :  '+'%.2f ' %(nested_score.mean()*100)+' %')\n",
    "print('Best_parameter:  '+str(clf.best_params_))\n",
    "print('')"
   ]
  },
  {
   "cell_type": "code",
   "execution_count": 113,
   "metadata": {},
   "outputs": [
    {
     "data": {
      "text/plain": [
       "GridSearchCV(cv=KFold(n_splits=4, random_state=2, shuffle=True),\n",
       "             estimator=ClassifierChain(require_dense=[True, True]),\n",
       "             param_grid={'classifier': [LogisticRegression(C=0.01, penalty='l1',\n",
       "                                                           solver='liblinear')],\n",
       "                         'classifier__C': [0.01, 0.1, 1, 10],\n",
       "                         'classifier__penalty': ('l1', 'l2'),\n",
       "                         'classifier__solver': ('newton-cg', 'lbfgs',\n",
       "                                                'liblinear', 'sag', 'saga')})"
      ]
     },
     "execution_count": 113,
     "metadata": {},
     "output_type": "execute_result"
    }
   ],
   "source": [
    "clf = GridSearchCV(ClassifierChain(), lr_pram, cv=inner_cv) \n",
    "clf.fit(X, y)"
   ]
  },
  {
   "cell_type": "code",
   "execution_count": 114,
   "metadata": {},
   "outputs": [
    {
     "name": "stdout",
     "output_type": "stream",
     "text": [
      "LogisticRegression : \n",
      "Nested_CV :  29.00  %\n",
      "Best_parameter:  {'classifier': LogisticRegression(C=0.01, penalty='l1', solver='liblinear'), 'classifier__C': 0.01, 'classifier__penalty': 'l1', 'classifier__solver': 'liblinear'}\n",
      "\n"
     ]
    }
   ],
   "source": [
    "nested_score = cross_val_score(ClassifierChain(lr), X, y, cv=outer_cv)\n",
    "print('LogisticRegression : ')\n",
    "print('Nested_CV :  '+'%.2f ' %(nested_score.mean()*100)+' %')\n",
    "print('Best_parameter:  '+str(clf.best_params_))\n",
    "print('')"
   ]
  },
  {
   "cell_type": "markdown",
   "metadata": {},
   "source": [
    "### Logistic Regression Summary with Author Detail\n",
    "ในการใช้ Logistic Regression หา label เราได้ best parameter มาคือ C=1, penalty='l1', solver='liblinear'\n",
    "ให้ค่าความแม่นยำ 36% โดยเป็นการหาแบบ BinaryRelevance&ClassifierChain ด้วยการทำ NestCV\n",
    "แต่พอมีข้อมูลผู้แต่งมาจะทำให้คำศัพท์มันเยอะขึ้นแต่ไม่ช่วยในการทำนายความแม่นยำมิหนำซ้ำยังส่งผลให้ทำงานหาความแม่นยำได้แย่ลงอีกด้วย"
   ]
  },
  {
   "cell_type": "markdown",
   "metadata": {},
   "source": [
    "## Multilabel kNN"
   ]
  },
  {
   "cell_type": "code",
   "execution_count": 115,
   "metadata": {
    "scrolled": true
   },
   "outputs": [
    {
     "name": "stdout",
     "output_type": "stream",
     "text": [
      "Multiple kNN : \n",
      "Nested_CV :  34.00  %\n",
      "Best_parameter:  {'k': 7, 's': 1.0}\n",
      "\n"
     ]
    }
   ],
   "source": [
    "X_knn = lil_matrix(X).toarray()\n",
    "y_knn = lil_matrix(y).toarray()\n",
    "knn_pram = {'k': range(1,15), 's': [0.5, 0.7, 1.0]}\n",
    "inner_cv = KFold(n_splits=4, shuffle=True, random_state=2)\n",
    "outer_cv = KFold(n_splits=4, shuffle=True, random_state=2)\n",
    "# Optimizing Parameter\n",
    "clf = GridSearchCV(MLkNN(), knn_pram, cv=inner_cv) \n",
    "clf.fit(X_knn, y_knn)\n",
    "# Nested CV with parameter optimization\n",
    "nested_score = cross_val_score(clf, X_knn, y_knn, cv=outer_cv)\n",
    "print('Multiple kNN : ')\n",
    "print('Nested_CV :  '+'%.2f ' %(nested_score.mean()*100)+' %')\n",
    "print('Best_parameter:  '+str(clf.best_params_))\n",
    "print('')"
   ]
  },
  {
   "cell_type": "markdown",
   "metadata": {},
   "source": [
    "### MLkNN Summary\n",
    "จากการทำ GridSearchCV ได้ parameter ที่ดีคือใช้ k=7 และ s =0.7\n",
    "โดยให้ความแม่นยำอยู่ที่ 35%\n",
    "พอมีข้อมูลผู้แต่งมาต่อทำให้การแบ่งกลุ่มนั้นน้อยลงโดยใช้ k=6 s=0.5 แต่ให้ความแม่นยำเพียงแค่ 33%\n",
    "ถ้าเราใช้ Weight Less word มา จะแบ่งกลุ่ม k=7 s=1.0 โดยมีความแม่นยำเปลี่ยนเป็น 34%"
   ]
  },
  {
   "cell_type": "markdown",
   "metadata": {},
   "source": [
    "# สรุป\n",
    "ในการทำ text mining quote ได้ทำหลักๆคือสามแบบคือ\n",
    "\n",
    "    1.ทำ lemma กับข้อมูล quote ธรรมดา\n",
    "    2.ทำ lemma กับข้อมูล quote และ ข้อมูล Author details โดยกำหนด weight มีคำเยอะ ตั้งค่า min_df = 3\n",
    "    3.ทำ lemma กับข้อมูล quote และ ข้อมูล Author details โดยกำหนด weight มีคำน้อย ตั้งค่า min_df = 5\n",
    "ซึ่งหลักการในการทำคือการนำข้อมูลเข้าโมเดลโดยใช้ lemma tokenize โดยหลักจากเก็บ Token เข้าโมเดลต่าง ๆ จะได้ค่าที่แตกต่างกัน\n",
    "\n",
    "ในการทำนั้นได้ใช้โมเดลที่แตกต่างกันออกไปโดยเลือกใช้ Naive Baynes แบบ Multinomial & Bernoulli โดยใช้ Classifier multi learn \n",
    "\n",
    "คือ BinaryRelevance, Classifierchain , PowerLabelset โดยเราจะลองทำ Train test split ก่อนในเบื้องต้นเพื่อดูว่าความแม่นยำเป็นอย่างไร\n",
    "\n",
    "ก่อนที่จะ test ด้วย Leave one out หลังจากนั้นจะทำการ tune parameter แล้วเข้า nestedcv เพื่อหาค่าความแม่นยำออกมา\n",
    "\n",
    "มีการทำ Logistic Regression with BinaryRelevance และ Classifier chain, Decision Tree, RandomForest, MlkNN\n",
    "\n",
    "โดยขั้นตอนการทำจะซ้้ำกันทั้งสามแบบจะดูค่าความแม่นยำที่ออกมา ซึ่งบางข้อมูล การจัดการ parameter อาจจะต่างกันเนื่องจากการทำ\n",
    "\n",
    "GridSearchCV จะให้ parameter ที่เหมาะสมต่อข้อมูลนั้น ๆ \n",
    "\n",
    "ความแม่นยำในการทำโมเดลแต่ะข้อมูลจะเกาะกลุ่มกันไปในแต่ละโมเดลตามที่สังเกตได้\n",
    "\n",
    "โดยความแม่นยำที่ดีที่สุด หลังจากการทำในแต่ละโมเดลคือ Decision tree 37% ในแบบแรก 33% ใน MlkNN ในแบบที่สอง และ 34% ใน MlkNN ในข้อมูลแบบที่3\n",
    "\n",
    "ซึ่งหากนับ train test split มันจะมีค่าความแม่นยำสูงถึง 80% ในข้อมูลแบบที่สาม แต่ก็ไม่สามารถบอกได้แน่นอนว่ามันเป็น lucky split หรือ ไม่\n",
    "\n",
    "หรือถ้านับ leave one out ก็อาจจะได้ค่าที่ดี แต่ parameter อาจจะยังไม่ถูกต้องตามที่ควร \n",
    "\n",
    "ข้อมูลแบบที่สองและสาม จะมีความต่างกันโดยข้อมูลที่ได้อาจจะมีการตัดคำทำให้ในแต่ละโมเดลจะหาค่าความแม่นยำได้ต่างกันแต่โดยรวมการกำหนด min_df ที่น้อยกว่า\n",
    "ให้ค่าความแม่นยำที่น้อยกว่าในโมเดลต่าง ๆ\n"
   ]
  },
  {
   "cell_type": "markdown",
   "metadata": {},
   "source": [
    "# Appendix"
   ]
  },
  {
   "cell_type": "code",
   "execution_count": 116,
   "metadata": {},
   "outputs": [
    {
     "data": {
      "image/png": "[encoded data removed]",
      "text/plain": [
       "<Figure size 432x288 with 1 Axes>"
      ]
     },
     "metadata": {
      "needs_background": "light"
     },
     "output_type": "display_data"
    }
   ],
   "source": [
    "objects = ('DecisionTree', 'More_Weight_MlkNN', 'Less_Weight_MlkNN')#DT มาจาก ข้อมูล quote, MW_mlknn มาจากquote+author min_df=3\n",
    "y_pos = np.arange(len(objects))                                     #LW มาจาก quote+author min_df = 5\n",
    "performance = [37,33,34,]\n",
    "\n",
    "plt.bar(y_pos, performance, align='center', alpha=0.5)\n",
    "plt.xticks(y_pos, objects)\n",
    "plt.ylabel('Accuracy')\n",
    "plt.title('Best Model in different token')\n",
    "\n",
    "plt.show()"
   ]
  },
  {
   "cell_type": "markdown",
   "metadata": {},
   "source": [
    "กราฟแสดงค่าความแม่นยำของโมเดลที่ดีที่สุดในข้อมูลแต่ละแบบ"
   ]
  },
  {
   "cell_type": "code",
   "execution_count": 117,
   "metadata": {},
   "outputs": [
    {
     "data": {
      "image/png": "[encoded data removed]",
      "text/plain": [
       "<Figure size 720x720 with 1 Axes>"
      ]
     },
     "metadata": {
      "needs_background": "light"
     },
     "output_type": "display_data"
    }
   ],
   "source": [
    "fig, ax = plt.subplots(figsize = (10,10))\n",
    "objects = ('MW_DecisionTree','LW_DecisionTree', 'MW_RandomForest', 'LW_RandomForest')#MW = More_Weight, LW = Low\n",
    "y_pos = np.arange(len(objects))\n",
    "performance = [32,33,30,27,]\n",
    "\n",
    "plt.bar(y_pos, performance, align='center', alpha=0.5)\n",
    "plt.xticks(y_pos, objects)\n",
    "plt.ylabel('Accuracy')\n",
    "plt.title('Best Model in different token')\n",
    "\n",
    "plt.grid()\n",
    "plt.show()"
   ]
  },
  {
   "cell_type": "markdown",
   "metadata": {},
   "source": [
    "กราฟเปรียบเทียบ tree ในแต่ละข้อมูล"
   ]
  }
 ],
 "metadata": {
  "kernelspec": {
   "display_name": "Python 3",
   "language": "python",
   "name": "python3"
  },
  "language_info": {
   "codemirror_mode": {
    "name": "ipython",
    "version": 3
   },
   "file_extension": ".py",
   "mimetype": "text/x-python",
   "name": "python",
   "nbconvert_exporter": "python",
   "pygments_lexer": "ipython3",
   "version": "3.8.3"
  }
 },
 "nbformat": 4,
 "nbformat_minor": 4
}
